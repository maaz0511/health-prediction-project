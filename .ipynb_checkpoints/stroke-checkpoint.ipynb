{
 "cells": [
  {
   "cell_type": "markdown",
   "id": "1e90adcf-9897-4b87-bbb8-1f32f21f6024",
   "metadata": {},
   "source": [
    "# Import Libraries"
   ]
  },
  {
   "cell_type": "code",
   "execution_count": 1,
   "id": "dd4db16d-2aa2-4455-a75f-fd3eb29b519e",
   "metadata": {},
   "outputs": [],
   "source": [
    "# =======================\n",
    "#     Core Libraries\n",
    "# =======================\n",
    "import os\n",
    "import pickle\n",
    "import numpy as np\n",
    "import pandas as pd\n",
    "\n",
    "# =======================\n",
    "#   Data Visualization\n",
    "# =======================\n",
    "import matplotlib.pyplot as plt\n",
    "import seaborn as sns\n",
    "\n",
    "# =======================\n",
    "#      Preprocessing\n",
    "# =======================\n",
    "from sklearn.model_selection import train_test_split\n",
    "from sklearn.preprocessing import StandardScaler, LabelEncoder\n",
    "from imblearn.over_sampling import SMOTE\n",
    "\n",
    "# =======================\n",
    "#       ML Models\n",
    "# =======================\n",
    "from sklearn.neighbors import KNeighborsClassifier\n",
    "from sklearn.tree import DecisionTreeClassifier\n",
    "from sklearn.svm import SVC\n",
    "from sklearn.naive_bayes import GaussianNB\n",
    "from sklearn.linear_model import LogisticRegression\n",
    "\n",
    "# =======================\n",
    "#   Evaluation Metrics\n",
    "# =======================\n",
    "from sklearn.metrics import accuracy_score, f1_score"
   ]
  },
  {
   "cell_type": "markdown",
   "id": "d052ce6c-ea8f-43fc-8be4-94d3a59aed6d",
   "metadata": {},
   "source": [
    "# Basic Tasks"
   ]
  },
  {
   "cell_type": "code",
   "execution_count": 2,
   "id": "07dbc56a-796b-420f-af17-d97b4cb9f2fa",
   "metadata": {},
   "outputs": [],
   "source": [
    "# Load Dataset\n",
    "df = pd.read_csv(\"./datasets/stroke.csv\")"
   ]
  },
  {
   "cell_type": "code",
   "execution_count": 3,
   "id": "2c5c43c0-b163-4b25-a95d-774fbfa58709",
   "metadata": {},
   "outputs": [
    {
     "name": "stdout",
     "output_type": "stream",
     "text": [
      "Head of the dataset:\n",
      "\n"
     ]
    },
    {
     "data": {
      "text/html": [
       "<div>\n",
       "<style scoped>\n",
       "    .dataframe tbody tr th:only-of-type {\n",
       "        vertical-align: middle;\n",
       "    }\n",
       "\n",
       "    .dataframe tbody tr th {\n",
       "        vertical-align: top;\n",
       "    }\n",
       "\n",
       "    .dataframe thead th {\n",
       "        text-align: right;\n",
       "    }\n",
       "</style>\n",
       "<table border=\"1\" class=\"dataframe\">\n",
       "  <thead>\n",
       "    <tr style=\"text-align: right;\">\n",
       "      <th></th>\n",
       "      <th>id</th>\n",
       "      <th>gender</th>\n",
       "      <th>age</th>\n",
       "      <th>hypertension</th>\n",
       "      <th>heart_disease</th>\n",
       "      <th>ever_married</th>\n",
       "      <th>work_type</th>\n",
       "      <th>Residence_type</th>\n",
       "      <th>avg_glucose_level</th>\n",
       "      <th>bmi</th>\n",
       "      <th>smoking_status</th>\n",
       "      <th>stroke</th>\n",
       "    </tr>\n",
       "  </thead>\n",
       "  <tbody>\n",
       "    <tr>\n",
       "      <th>0</th>\n",
       "      <td>9046</td>\n",
       "      <td>Male</td>\n",
       "      <td>67.0</td>\n",
       "      <td>0</td>\n",
       "      <td>1</td>\n",
       "      <td>Yes</td>\n",
       "      <td>Private</td>\n",
       "      <td>Urban</td>\n",
       "      <td>228.69</td>\n",
       "      <td>36.6</td>\n",
       "      <td>formerly smoked</td>\n",
       "      <td>1</td>\n",
       "    </tr>\n",
       "    <tr>\n",
       "      <th>1</th>\n",
       "      <td>51676</td>\n",
       "      <td>Female</td>\n",
       "      <td>61.0</td>\n",
       "      <td>0</td>\n",
       "      <td>0</td>\n",
       "      <td>Yes</td>\n",
       "      <td>Self-employed</td>\n",
       "      <td>Rural</td>\n",
       "      <td>202.21</td>\n",
       "      <td>NaN</td>\n",
       "      <td>never smoked</td>\n",
       "      <td>1</td>\n",
       "    </tr>\n",
       "    <tr>\n",
       "      <th>2</th>\n",
       "      <td>31112</td>\n",
       "      <td>Male</td>\n",
       "      <td>80.0</td>\n",
       "      <td>0</td>\n",
       "      <td>1</td>\n",
       "      <td>Yes</td>\n",
       "      <td>Private</td>\n",
       "      <td>Rural</td>\n",
       "      <td>105.92</td>\n",
       "      <td>32.5</td>\n",
       "      <td>never smoked</td>\n",
       "      <td>1</td>\n",
       "    </tr>\n",
       "    <tr>\n",
       "      <th>3</th>\n",
       "      <td>60182</td>\n",
       "      <td>Female</td>\n",
       "      <td>49.0</td>\n",
       "      <td>0</td>\n",
       "      <td>0</td>\n",
       "      <td>Yes</td>\n",
       "      <td>Private</td>\n",
       "      <td>Urban</td>\n",
       "      <td>171.23</td>\n",
       "      <td>34.4</td>\n",
       "      <td>smokes</td>\n",
       "      <td>1</td>\n",
       "    </tr>\n",
       "    <tr>\n",
       "      <th>4</th>\n",
       "      <td>1665</td>\n",
       "      <td>Female</td>\n",
       "      <td>79.0</td>\n",
       "      <td>1</td>\n",
       "      <td>0</td>\n",
       "      <td>Yes</td>\n",
       "      <td>Self-employed</td>\n",
       "      <td>Rural</td>\n",
       "      <td>174.12</td>\n",
       "      <td>24.0</td>\n",
       "      <td>never smoked</td>\n",
       "      <td>1</td>\n",
       "    </tr>\n",
       "  </tbody>\n",
       "</table>\n",
       "</div>"
      ],
      "text/plain": [
       "      id  gender   age  hypertension  heart_disease ever_married  \\\n",
       "0   9046    Male  67.0             0              1          Yes   \n",
       "1  51676  Female  61.0             0              0          Yes   \n",
       "2  31112    Male  80.0             0              1          Yes   \n",
       "3  60182  Female  49.0             0              0          Yes   \n",
       "4   1665  Female  79.0             1              0          Yes   \n",
       "\n",
       "       work_type Residence_type  avg_glucose_level   bmi   smoking_status  \\\n",
       "0        Private          Urban             228.69  36.6  formerly smoked   \n",
       "1  Self-employed          Rural             202.21   NaN     never smoked   \n",
       "2        Private          Rural             105.92  32.5     never smoked   \n",
       "3        Private          Urban             171.23  34.4           smokes   \n",
       "4  Self-employed          Rural             174.12  24.0     never smoked   \n",
       "\n",
       "   stroke  \n",
       "0       1  \n",
       "1       1  \n",
       "2       1  \n",
       "3       1  \n",
       "4       1  "
      ]
     },
     "execution_count": 3,
     "metadata": {},
     "output_type": "execute_result"
    }
   ],
   "source": [
    "# Display First 5 Rows\n",
    "print(\"Head of the dataset:\\n\")\n",
    "df.head()"
   ]
  },
  {
   "cell_type": "code",
   "execution_count": 4,
   "id": "76c9dc79-33db-4330-a19a-aa3ee9c7c146",
   "metadata": {},
   "outputs": [
    {
     "name": "stdout",
     "output_type": "stream",
     "text": [
      "Shape of the dataset:\n",
      "\n"
     ]
    },
    {
     "data": {
      "text/plain": [
       "(5110, 12)"
      ]
     },
     "execution_count": 4,
     "metadata": {},
     "output_type": "execute_result"
    }
   ],
   "source": [
    "# Shape of the Dataset\n",
    "print(\"Shape of the dataset:\\n\")\n",
    "df.shape"
   ]
  },
  {
   "cell_type": "code",
   "execution_count": 5,
   "id": "e338a5b2-926d-4e96-a3dc-a345e354bd44",
   "metadata": {},
   "outputs": [
    {
     "name": "stdout",
     "output_type": "stream",
     "text": [
      "Info about the dataset:\n",
      "\n",
      "<class 'pandas.core.frame.DataFrame'>\n",
      "RangeIndex: 5110 entries, 0 to 5109\n",
      "Data columns (total 12 columns):\n",
      " #   Column             Non-Null Count  Dtype  \n",
      "---  ------             --------------  -----  \n",
      " 0   id                 5110 non-null   int64  \n",
      " 1   gender             5110 non-null   object \n",
      " 2   age                5110 non-null   float64\n",
      " 3   hypertension       5110 non-null   int64  \n",
      " 4   heart_disease      5110 non-null   int64  \n",
      " 5   ever_married       5110 non-null   object \n",
      " 6   work_type          5110 non-null   object \n",
      " 7   Residence_type     5110 non-null   object \n",
      " 8   avg_glucose_level  5110 non-null   float64\n",
      " 9   bmi                4909 non-null   float64\n",
      " 10  smoking_status     5110 non-null   object \n",
      " 11  stroke             5110 non-null   int64  \n",
      "dtypes: float64(3), int64(4), object(5)\n",
      "memory usage: 479.2+ KB\n"
     ]
    }
   ],
   "source": [
    "# Info about Dataset\n",
    "print(\"Info about the dataset:\\n\")\n",
    "df.info()"
   ]
  },
  {
   "cell_type": "code",
   "execution_count": 6,
   "id": "56dd96f9-a778-4016-9552-b714c9af0d86",
   "metadata": {},
   "outputs": [
    {
     "name": "stdout",
     "output_type": "stream",
     "text": [
      "Total duplicate rows: 0\n",
      "\n"
     ]
    }
   ],
   "source": [
    "# Check for Duplicates and Remove if Any\n",
    "duplicates = df.duplicated().sum()\n",
    "print(f\"Total duplicate rows: {duplicates}\\n\")\n",
    "\n",
    "if duplicates > 0:\n",
    "    df = df.drop_duplicates()\n",
    "    print(\"✅ Duplicates removed.\")"
   ]
  },
  {
   "cell_type": "code",
   "execution_count": 7,
   "id": "012dc84b-3d8e-4d74-8fd3-ba67e9cee6b8",
   "metadata": {},
   "outputs": [
    {
     "name": "stdout",
     "output_type": "stream",
     "text": [
      "Shape of dataset before removing missing values:(5110, 12) \n",
      "\n",
      "Missing Value Percentage:\n",
      " id                   0.000000\n",
      "gender               0.000000\n",
      "age                  0.000000\n",
      "hypertension         0.000000\n",
      "heart_disease        0.000000\n",
      "ever_married         0.000000\n",
      "work_type            0.000000\n",
      "Residence_type       0.000000\n",
      "avg_glucose_level    0.000000\n",
      "bmi                  3.933464\n",
      "smoking_status       0.000000\n",
      "stroke               0.000000\n",
      "dtype: float64\n",
      "✅ Dropped rows with missing values in 'bmi' (<5%).\n",
      "Shape of dataset after removing missing values:(4909, 12) \n",
      "\n"
     ]
    }
   ],
   "source": [
    "# Check and Handle Missing Values\n",
    "print(f\"Shape of dataset before removing missing values:{df.shape} \\n\")\n",
    "\n",
    "missing = df.isnull().mean() * 100\n",
    "print(\"Missing Value Percentage:\\n\", missing)\n",
    "\n",
    "for col in df.columns[df.isnull().any()]:\n",
    "    if missing[col] < 5:\n",
    "        df.dropna(subset=[col], inplace=True)\n",
    "        print(f\"✅ Dropped rows with missing values in '{col}' (<5%).\")\n",
    "    else:\n",
    "        fill_value = df[col].mode()[0] if df[col].dtype == 'object' else df[col].median()\n",
    "        df[col].fillna(fill_value, inplace=True)\n",
    "        print(f\"🔧 Filled missing values in '{col}' with {'mode' if df[col].dtype == 'object' else 'median'}.\")\n",
    "\n",
    "print(f\"Shape of dataset after removing missing values:{df.shape} \\n\")"
   ]
  },
  {
   "cell_type": "code",
   "execution_count": 8,
   "id": "1c8f98a7-1dce-4633-9068-420aa6a3a4c5",
   "metadata": {},
   "outputs": [
    {
     "data": {
      "image/png": "[encoded data removed]",
      "text/plain": [
       "<Figure size 600x400 with 1 Axes>"
      ]
     },
     "metadata": {},
     "output_type": "display_data"
    },
    {
     "name": "stdout",
     "output_type": "stream",
     "text": [
      "Class Distribution:\n",
      "stroke\n",
      "0    4700\n",
      "1     209\n",
      "Name: count, dtype: int64\n",
      "⚠️ Class distribution is imbalanced. Consider applying imbalance handling techniques (like SMOTE, undersampling, or oversampling).\n"
     ]
    }
   ],
   "source": [
    "# Class Distribution (Assuming last column is target)\n",
    "target_col = df.columns[-1]\n",
    "\n",
    "# Plotting the Class Distribution\n",
    "plt.figure(figsize=(6,4))\n",
    "sns.countplot(x=target_col, data=df)\n",
    "plt.title('Class Distribution')\n",
    "plt.xlabel('Class')\n",
    "plt.ylabel('Count')\n",
    "plt.show()\n",
    "\n",
    "# Checking for Imbalance\n",
    "class_counts = df[target_col].value_counts()\n",
    "print(f\"Class Distribution:\\n{class_counts}\")\n",
    "\n",
    "# If class distribution is imbalanced, suggest techniques\n",
    "if class_counts.min() / class_counts.max() < 0.1:  # If the ratio between smallest and largest class is <10%\n",
    "    print(\"⚠️ Class distribution is imbalanced. Consider applying imbalance handling techniques (like SMOTE, undersampling, or oversampling).\")\n",
    "else:\n",
    "    print(\"✅ Class distribution is balanced. No need to apply imbalance techniques.\")\n"
   ]
  },
  {
   "cell_type": "markdown",
   "id": "0e91e01e-2a77-4426-88cc-687845d8c4e8",
   "metadata": {},
   "source": [
    "# Data Preprocessing"
   ]
  },
  {
   "cell_type": "markdown",
   "id": "e990880c-045c-4b57-81ba-e8aeca71b040",
   "metadata": {},
   "source": [
    "## 1. Removing \"id\" Column"
   ]
  },
  {
   "cell_type": "code",
   "execution_count": 9,
   "id": "dfd84ac4-7b2a-4a1d-902d-476089238ecd",
   "metadata": {},
   "outputs": [
    {
     "name": "stdout",
     "output_type": "stream",
     "text": [
      "'id' column removed.\n"
     ]
    }
   ],
   "source": [
    "df = df.drop('id', axis=1)\n",
    "print(\"'id' column removed.\")"
   ]
  },
  {
   "cell_type": "markdown",
   "id": "aacfdaa2-09f1-411b-93d0-17a8c227cd21",
   "metadata": {},
   "source": [
    "## 2. Handling Data Types"
   ]
  },
  {
   "cell_type": "code",
   "execution_count": 10,
   "id": "9a7d4b74-9230-4ea7-8fce-2033a0b21414",
   "metadata": {},
   "outputs": [
    {
     "name": "stdout",
     "output_type": "stream",
     "text": [
      "Unique values in 'gender':\n",
      "['Male' 'Female' 'Other']\n",
      "\n",
      "Unique values in 'ever_married':\n",
      "['Yes' 'No']\n",
      "\n",
      "Unique values in 'work_type':\n",
      "['Private' 'Self-employed' 'Govt_job' 'children' 'Never_worked']\n",
      "\n",
      "Unique values in 'Residence_type':\n",
      "['Urban' 'Rural']\n",
      "\n",
      "Unique values in 'smoking_status':\n",
      "['formerly smoked' 'never smoked' 'smokes' 'Unknown']\n",
      "\n"
     ]
    }
   ],
   "source": [
    "# Iterate through columns and check for 'object' type\n",
    "for col in df.columns:\n",
    "    if df[col].dtype == 'object':  # Check if the column is of object type\n",
    "        print(f\"Unique values in '{col}':\")\n",
    "        print(df[col].unique())\n",
    "        print()  # For better readability"
   ]
  },
  {
   "cell_type": "code",
   "execution_count": 11,
   "id": "eb583306-6c96-4d81-a099-902d8ca4926e",
   "metadata": {},
   "outputs": [
    {
     "name": "stdout",
     "output_type": "stream",
     "text": [
      "✅ Encoded 'ever_married' as numerical.\n",
      "✅ Encoded 'Residence_type' as numerical.\n",
      "\n",
      "✅ One-Hot Encoding applied to 'gender', 'work_type', and 'smoking_status'.\n",
      "✅ All columns are now in 0/1 format.\n"
     ]
    }
   ],
   "source": [
    "# Apply Label Encoding for binary columns\n",
    "label_columns = ['ever_married', 'Residence_type']  # Binary columns\n",
    "label_encoder = LabelEncoder()\n",
    "\n",
    "for col in label_columns:\n",
    "    df[col] = label_encoder.fit_transform(df[col])\n",
    "    print(f\"✅ Encoded '{col}' as numerical.\")\n",
    "\n",
    "# Apply One-Hot Encoding for multi-class columns and convert to 0/1\n",
    "df = pd.get_dummies(df, columns=['gender', 'work_type', 'smoking_status'], drop_first=True)\n",
    "\n",
    "# Convert all newly created columns to 0/1 (in case they are True/False)\n",
    "df = df.apply(lambda x: x.astype(int) if x.dtype == 'bool' else x)\n",
    "\n",
    "print(\"\\n✅ One-Hot Encoding applied to 'gender', 'work_type', and 'smoking_status'.\")\n",
    "print(\"✅ All columns are now in 0/1 format.\")"
   ]
  },
  {
   "cell_type": "code",
   "execution_count": 12,
   "id": "7fe17c03-621d-455f-b7ec-f6fe78c52c26",
   "metadata": {},
   "outputs": [
    {
     "name": "stdout",
     "output_type": "stream",
     "text": [
      "<class 'pandas.core.frame.DataFrame'>\n",
      "Index: 4909 entries, 0 to 5109\n",
      "Data columns (total 17 columns):\n",
      " #   Column                          Non-Null Count  Dtype  \n",
      "---  ------                          --------------  -----  \n",
      " 0   age                             4909 non-null   float64\n",
      " 1   hypertension                    4909 non-null   int64  \n",
      " 2   heart_disease                   4909 non-null   int64  \n",
      " 3   ever_married                    4909 non-null   int32  \n",
      " 4   Residence_type                  4909 non-null   int32  \n",
      " 5   avg_glucose_level               4909 non-null   float64\n",
      " 6   bmi                             4909 non-null   float64\n",
      " 7   stroke                          4909 non-null   int64  \n",
      " 8   gender_Male                     4909 non-null   int32  \n",
      " 9   gender_Other                    4909 non-null   int32  \n",
      " 10  work_type_Never_worked          4909 non-null   int32  \n",
      " 11  work_type_Private               4909 non-null   int32  \n",
      " 12  work_type_Self-employed         4909 non-null   int32  \n",
      " 13  work_type_children              4909 non-null   int32  \n",
      " 14  smoking_status_formerly smoked  4909 non-null   int32  \n",
      " 15  smoking_status_never smoked     4909 non-null   int32  \n",
      " 16  smoking_status_smokes           4909 non-null   int32  \n",
      "dtypes: float64(3), int32(11), int64(3)\n",
      "memory usage: 479.4 KB\n"
     ]
    }
   ],
   "source": [
    "df.info()"
   ]
  },
  {
   "cell_type": "code",
   "execution_count": null,
   "id": "c5341382-c579-4c66-92e0-be44822d9232",
   "metadata": {},
   "outputs": [],
   "source": []
  },
  {
   "cell_type": "markdown",
   "id": "9de13afb-8f57-408b-b82d-fc474047edd3",
   "metadata": {},
   "source": [
    "## 3. Standardization data"
   ]
  },
  {
   "cell_type": "code",
   "execution_count": 13,
   "id": "aec7d4aa-3814-4f69-99d8-0d2bebe55c74",
   "metadata": {},
   "outputs": [
    {
     "data": {
      "text/html": [
       "<div>\n",
       "<style scoped>\n",
       "    .dataframe tbody tr th:only-of-type {\n",
       "        vertical-align: middle;\n",
       "    }\n",
       "\n",
       "    .dataframe tbody tr th {\n",
       "        vertical-align: top;\n",
       "    }\n",
       "\n",
       "    .dataframe thead th {\n",
       "        text-align: right;\n",
       "    }\n",
       "</style>\n",
       "<table border=\"1\" class=\"dataframe\">\n",
       "  <thead>\n",
       "    <tr style=\"text-align: right;\">\n",
       "      <th></th>\n",
       "      <th>age</th>\n",
       "      <th>hypertension</th>\n",
       "      <th>heart_disease</th>\n",
       "      <th>ever_married</th>\n",
       "      <th>Residence_type</th>\n",
       "      <th>avg_glucose_level</th>\n",
       "      <th>bmi</th>\n",
       "      <th>stroke</th>\n",
       "      <th>gender_Male</th>\n",
       "      <th>gender_Other</th>\n",
       "      <th>work_type_Never_worked</th>\n",
       "      <th>work_type_Private</th>\n",
       "      <th>work_type_Self-employed</th>\n",
       "      <th>work_type_children</th>\n",
       "      <th>smoking_status_formerly smoked</th>\n",
       "      <th>smoking_status_never smoked</th>\n",
       "      <th>smoking_status_smokes</th>\n",
       "    </tr>\n",
       "  </thead>\n",
       "  <tbody>\n",
       "    <tr>\n",
       "      <th>0</th>\n",
       "      <td>1.070138</td>\n",
       "      <td>0</td>\n",
       "      <td>1</td>\n",
       "      <td>1</td>\n",
       "      <td>1</td>\n",
       "      <td>2.777698</td>\n",
       "      <td>0.981345</td>\n",
       "      <td>1</td>\n",
       "      <td>1</td>\n",
       "      <td>0</td>\n",
       "      <td>0</td>\n",
       "      <td>1</td>\n",
       "      <td>0</td>\n",
       "      <td>0</td>\n",
       "      <td>1</td>\n",
       "      <td>0</td>\n",
       "      <td>0</td>\n",
       "    </tr>\n",
       "    <tr>\n",
       "      <th>2</th>\n",
       "      <td>1.646563</td>\n",
       "      <td>0</td>\n",
       "      <td>1</td>\n",
       "      <td>1</td>\n",
       "      <td>0</td>\n",
       "      <td>0.013842</td>\n",
       "      <td>0.459269</td>\n",
       "      <td>1</td>\n",
       "      <td>1</td>\n",
       "      <td>0</td>\n",
       "      <td>0</td>\n",
       "      <td>1</td>\n",
       "      <td>0</td>\n",
       "      <td>0</td>\n",
       "      <td>0</td>\n",
       "      <td>1</td>\n",
       "      <td>0</td>\n",
       "    </tr>\n",
       "    <tr>\n",
       "      <th>3</th>\n",
       "      <td>0.272012</td>\n",
       "      <td>0</td>\n",
       "      <td>0</td>\n",
       "      <td>1</td>\n",
       "      <td>1</td>\n",
       "      <td>1.484132</td>\n",
       "      <td>0.701207</td>\n",
       "      <td>1</td>\n",
       "      <td>0</td>\n",
       "      <td>0</td>\n",
       "      <td>0</td>\n",
       "      <td>1</td>\n",
       "      <td>0</td>\n",
       "      <td>0</td>\n",
       "      <td>0</td>\n",
       "      <td>0</td>\n",
       "      <td>1</td>\n",
       "    </tr>\n",
       "    <tr>\n",
       "      <th>4</th>\n",
       "      <td>1.602222</td>\n",
       "      <td>1</td>\n",
       "      <td>0</td>\n",
       "      <td>1</td>\n",
       "      <td>0</td>\n",
       "      <td>1.549193</td>\n",
       "      <td>-0.623083</td>\n",
       "      <td>1</td>\n",
       "      <td>0</td>\n",
       "      <td>0</td>\n",
       "      <td>0</td>\n",
       "      <td>0</td>\n",
       "      <td>1</td>\n",
       "      <td>0</td>\n",
       "      <td>0</td>\n",
       "      <td>1</td>\n",
       "      <td>0</td>\n",
       "    </tr>\n",
       "    <tr>\n",
       "      <th>5</th>\n",
       "      <td>1.690903</td>\n",
       "      <td>0</td>\n",
       "      <td>0</td>\n",
       "      <td>1</td>\n",
       "      <td>1</td>\n",
       "      <td>1.821368</td>\n",
       "      <td>0.013595</td>\n",
       "      <td>1</td>\n",
       "      <td>1</td>\n",
       "      <td>0</td>\n",
       "      <td>0</td>\n",
       "      <td>1</td>\n",
       "      <td>0</td>\n",
       "      <td>0</td>\n",
       "      <td>1</td>\n",
       "      <td>0</td>\n",
       "      <td>0</td>\n",
       "    </tr>\n",
       "  </tbody>\n",
       "</table>\n",
       "</div>"
      ],
      "text/plain": [
       "        age  hypertension  heart_disease  ever_married  Residence_type  \\\n",
       "0  1.070138             0              1             1               1   \n",
       "2  1.646563             0              1             1               0   \n",
       "3  0.272012             0              0             1               1   \n",
       "4  1.602222             1              0             1               0   \n",
       "5  1.690903             0              0             1               1   \n",
       "\n",
       "   avg_glucose_level       bmi  stroke  gender_Male  gender_Other  \\\n",
       "0           2.777698  0.981345       1            1             0   \n",
       "2           0.013842  0.459269       1            1             0   \n",
       "3           1.484132  0.701207       1            0             0   \n",
       "4           1.549193 -0.623083       1            0             0   \n",
       "5           1.821368  0.013595       1            1             0   \n",
       "\n",
       "   work_type_Never_worked  work_type_Private  work_type_Self-employed  \\\n",
       "0                       0                  1                        0   \n",
       "2                       0                  1                        0   \n",
       "3                       0                  1                        0   \n",
       "4                       0                  0                        1   \n",
       "5                       0                  1                        0   \n",
       "\n",
       "   work_type_children  smoking_status_formerly smoked  \\\n",
       "0                   0                               1   \n",
       "2                   0                               0   \n",
       "3                   0                               0   \n",
       "4                   0                               0   \n",
       "5                   0                               1   \n",
       "\n",
       "   smoking_status_never smoked  smoking_status_smokes  \n",
       "0                            0                      0  \n",
       "2                            1                      0  \n",
       "3                            0                      1  \n",
       "4                            1                      0  \n",
       "5                            0                      0  "
      ]
     },
     "execution_count": 13,
     "metadata": {},
     "output_type": "execute_result"
    }
   ],
   "source": [
    "# Select numerical columns for standardization\n",
    "numerical_cols = ['age', 'avg_glucose_level', 'bmi']\n",
    "\n",
    "# Initialize StandardScaler\n",
    "scaler = StandardScaler()\n",
    "\n",
    "# Apply standardization to the numerical columns\n",
    "df[numerical_cols] = scaler.fit_transform(df[numerical_cols])\n",
    "\n",
    "# Display the first few rows of the standardized DataFrame\n",
    "df.head()"
   ]
  },
  {
   "cell_type": "markdown",
   "id": "d76d6f50-d2a5-4c9c-92c8-2b02d4caf73d",
   "metadata": {},
   "source": [
    "## 4. Applying SMOTE"
   ]
  },
  {
   "cell_type": "code",
   "execution_count": 14,
   "id": "4aeaa2c1-70e3-499a-9109-93954b88d3af",
   "metadata": {},
   "outputs": [],
   "source": [
    "# Assuming your features are X and target is y\n",
    "X = df.drop(target_col, axis=1)  # Features\n",
    "y = df[target_col]  # Target column"
   ]
  },
  {
   "cell_type": "code",
   "execution_count": 15,
   "id": "0ff51938-7330-403e-bd00-fc3a5024bb27",
   "metadata": {},
   "outputs": [
    {
     "name": "stdout",
     "output_type": "stream",
     "text": [
      "Original class distribution: stroke\n",
      "0    4700\n",
      "1     209\n",
      "Name: count, dtype: int64\n",
      "\n",
      "Class distribution after applying SMOTE: stroke\n",
      "1    4700\n",
      "0    4700\n",
      "Name: count, dtype: int64\n"
     ]
    }
   ],
   "source": [
    "# Apply SMOTE\n",
    "smote = SMOTE(random_state=42)\n",
    "X_res, y_res = smote.fit_resample(X, y)\n",
    "\n",
    "# Check the new class distribution after SMOTE\n",
    "print(f\"Original class distribution: {y.value_counts()}\\n\")\n",
    "\n",
    "print(f\"Class distribution after applying SMOTE: {pd.Series(y_res).value_counts()}\")\n",
    "\n",
    "# Optionally, you can convert X_res and y_res back into a DataFrame:\n",
    "df_resampled = pd.DataFrame(X_res, columns=X.columns)\n",
    "df_resampled[target_col] = y_res"
   ]
  },
  {
   "cell_type": "code",
   "execution_count": 16,
   "id": "b622242f-bf7e-4040-9b87-91fab2147b1c",
   "metadata": {},
   "outputs": [
    {
     "data": {
      "image/png": "[encoded data removed]",
      "text/plain": [
       "<Figure size 600x400 with 1 Axes>"
      ]
     },
     "metadata": {},
     "output_type": "display_data"
    }
   ],
   "source": [
    "# Class Distribution (Assuming last column is target)\n",
    "target_col = df_resampled.columns[-1]\n",
    "\n",
    "# Plotting the Class Distribution\n",
    "plt.figure(figsize=(6,4))\n",
    "sns.countplot(x=target_col, data=df_resampled)\n",
    "plt.title('Class Distribution')\n",
    "plt.xlabel('Class')\n",
    "plt.ylabel('Count')\n",
    "plt.show()"
   ]
  },
  {
   "cell_type": "markdown",
   "id": "23c6b2e5-4553-4a0e-9036-e3796f7489ce",
   "metadata": {},
   "source": [
    "# Modeling"
   ]
  },
  {
   "cell_type": "code",
   "execution_count": 17,
   "id": "2cfb821f-0d3c-43af-9f2c-00466779dd72",
   "metadata": {},
   "outputs": [],
   "source": [
    "# separate features and class\n",
    "X = df_resampled.iloc[:,:-1]\n",
    "y = df_resampled.iloc[:, -1]\n",
    "\n",
    "# Split the dataset into training and testing sets\n",
    "X_train, X_test, y_train, y_test = train_test_split(X, y, test_size=0.2, random_state=42)\n",
    "\n",
    "# Get the feature names from X for future use in Feature selection techniques\n",
    "feature_names = X.columns.tolist()\n",
    "\n",
    "# Define models\n",
    "models = {\n",
    "    'KNN': KNeighborsClassifier(),\n",
    "    'Logistic Regression': LogisticRegression(),\n",
    "    'Decision Tree': DecisionTreeClassifier(),\n",
    "    'SVM': SVC(),\n",
    "    'Naive Bayes': GaussianNB()\n",
    "}"
   ]
  },
  {
   "cell_type": "code",
   "execution_count": 18,
   "id": "ed285b29-543b-4173-9d60-bd69502ddcfa",
   "metadata": {},
   "outputs": [
    {
     "name": "stdout",
     "output_type": "stream",
     "text": [
      "Evaluating models with all features: \n",
      "\n",
      "Baseline model accuracies (with all features):\n",
      "{'KNN': 89.95, 'Logistic Regression': 79.15, 'Decision Tree': 91.65, 'SVM': 86.54, 'Naive Bayes': 61.86}\n",
      "\n",
      "Baseline model F1 scores (with all features):\n",
      "{'KNN': 89.86, 'Logistic Regression': 79.12, 'Decision Tree': 91.65, 'SVM': 86.49, 'Naive Bayes': 54.97}\n"
     ]
    }
   ],
   "source": [
    "print(\"Evaluating models with all features: \\n\")\n",
    "\n",
    "# Separate dictionaries for each metric\n",
    "all_features_model_accuracies = {}\n",
    "all_features_model_f1_scores = {}\n",
    "\n",
    "# Loop through each model\n",
    "for model_name, model_instance in models.items():\n",
    "    model_instance.fit(X_train, y_train)\n",
    "    y_pred = model_instance.predict(X_test)\n",
    "\n",
    "    # Save metrics\n",
    "    accuracy = round(accuracy_score(y_test, y_pred) * 100, 2)\n",
    "    f1 = round(f1_score(y_test, y_pred, average='weighted') * 100, 2)\n",
    "\n",
    "    # Add metrics to the respective dictionaries\n",
    "    all_features_model_accuracies[model_name] = accuracy\n",
    "    all_features_model_f1_scores[model_name] = f1\n",
    "\n",
    "# Print results\n",
    "print(\"Baseline model accuracies (with all features):\")\n",
    "print(all_features_model_accuracies)\n",
    "\n",
    "print(\"\\nBaseline model F1 scores (with all features):\")\n",
    "print(all_features_model_f1_scores)"
   ]
  },
  {
   "cell_type": "markdown",
   "id": "2d245d67-e3cf-42e0-9090-8485015f668c",
   "metadata": {},
   "source": [
    "# Pipeline + pickle"
   ]
  },
  {
   "cell_type": "code",
   "execution_count": 19,
   "id": "96013a4f-49cd-4138-ba7d-be7cd7ac2482",
   "metadata": {},
   "outputs": [
    {
     "name": "stdout",
     "output_type": "stream",
     "text": [
      "✅ Decision Tree model saved to './models/stroke_model.pkl'\n"
     ]
    }
   ],
   "source": [
    "# Create the directory if it doesn't exist\n",
    "os.makedirs('./models', exist_ok=True)\n",
    "\n",
    "# Assuming the 'models' dictionary already exists and the model is trained\n",
    "stroke_model = models['Decision Tree']\n",
    "\n",
    "# Save the model to the specified path\n",
    "with open('./models/stroke_model.pkl', 'wb') as file:\n",
    "    pickle.dump(stroke_model, file)\n",
    "\n",
    "print(\"✅ Decision Tree model saved to './models/stroke_model.pkl'\")"
   ]
  },
  {
   "cell_type": "markdown",
   "id": "7aea0cc8-7dae-4072-a75e-4829cb2708d3",
   "metadata": {},
   "source": [
    "# Result"
   ]
  },
  {
   "cell_type": "code",
   "execution_count": 20,
   "id": "6665b30a-830b-4aaa-bc0c-5b633ea89f26",
   "metadata": {},
   "outputs": [
    {
     "data": {
      "image/png": "[encoded data removed]",
      "text/plain": [
       "<Figure size 800x500 with 1 Axes>"
      ]
     },
     "metadata": {},
     "output_type": "display_data"
    },
    {
     "data": {
      "image/png": "[encoded data removed]",
      "text/plain": [
       "<Figure size 800x500 with 1 Axes>"
      ]
     },
     "metadata": {},
     "output_type": "display_data"
    }
   ],
   "source": [
    "# Dynamically extract models and values\n",
    "model = list(all_features_model_accuracies.keys())\n",
    "accuracies = list(all_features_model_accuracies.values())\n",
    "f1_scores = list(all_features_model_f1_scores.values())\n",
    "\n",
    "# Validate that the dictionaries have the same keys\n",
    "if set(all_features_model_accuracies.keys()) != set(all_features_model_f1_scores.keys()):\n",
    "    raise ValueError(\"Dictionaries must have the same models as keys\")\n",
    "\n",
    "# --- Plot 1: Bar Chart for Accuracies ---\n",
    "plt.figure(figsize=(8, 5))\n",
    "x = np.arange(len(models))\n",
    "plt.bar(x, accuracies, color='skyblue')\n",
    "plt.xlabel('Models')\n",
    "plt.ylabel('Accuracy (%)')\n",
    "plt.title('Model Performance: Accuracy')\n",
    "plt.xticks(x, models, rotation=45)\n",
    "plt.grid(axis='y', linestyle='--', alpha=0.7)\n",
    "plt.tight_layout()\n",
    "plt.show()\n",
    "\n",
    "# --- Plot 2: Bar Chart for F1 Scores ---\n",
    "plt.figure(figsize=(8, 5))\n",
    "x = np.arange(len(models))\n",
    "plt.bar(x, f1_scores, color='lightcoral')\n",
    "plt.xlabel('Models')\n",
    "plt.ylabel('F1 Score (%)')\n",
    "plt.title('Model Performance: F1 Scores')\n",
    "plt.xticks(x, models, rotation=45)\n",
    "plt.grid(axis='y', linestyle='--', alpha=0.7)\n",
    "plt.tight_layout()\n",
    "plt.show()"
   ]
  },
  {
   "cell_type": "code",
   "execution_count": null,
   "id": "ee82a3a5-46c3-4d9f-b69b-b5a4284a5873",
   "metadata": {},
   "outputs": [],
   "source": []
  }
 ],
 "metadata": {
  "kernelspec": {
   "display_name": "Python 3 (ipykernel)",
   "language": "python",
   "name": "python3"
  },
  "language_info": {
   "codemirror_mode": {
    "name": "ipython",
    "version": 3
   },
   "file_extension": ".py",
   "mimetype": "text/x-python",
   "name": "python",
   "nbconvert_exporter": "python",
   "pygments_lexer": "ipython3",
   "version": "3.12.7"
  }
 },
 "nbformat": 4,
 "nbformat_minor": 5
}
