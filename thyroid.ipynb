{
 "cells": [
  {
   "cell_type": "markdown",
   "id": "1e90adcf-9897-4b87-bbb8-1f32f21f6024",
   "metadata": {},
   "source": [
    "# Import Libraries"
   ]
  },
  {
   "cell_type": "code",
   "execution_count": 42,
   "id": "dd4db16d-2aa2-4455-a75f-fd3eb29b519e",
   "metadata": {},
   "outputs": [],
   "source": [
    "# =======================\n",
    "#     Core Libraries\n",
    "# =======================\n",
    "import os\n",
    "import pickle\n",
    "import numpy as np\n",
    "import pandas as pd\n",
    "\n",
    "# =======================\n",
    "#   Data Visualization\n",
    "# =======================\n",
    "import matplotlib.pyplot as plt\n",
    "import seaborn as sns\n",
    "\n",
    "# =======================\n",
    "#      Preprocessing\n",
    "# =======================\n",
    "from sklearn.model_selection import train_test_split\n",
    "from sklearn.preprocessing import StandardScaler, LabelEncoder\n",
    "from imblearn.over_sampling import SMOTE\n",
    "\n",
    "# =======================\n",
    "#       ML Models\n",
    "# =======================\n",
    "from sklearn.neighbors import KNeighborsClassifier\n",
    "from sklearn.tree import DecisionTreeClassifier\n",
    "from sklearn.svm import SVC\n",
    "from sklearn.naive_bayes import GaussianNB\n",
    "from sklearn.linear_model import LogisticRegression\n",
    "\n",
    "# =======================\n",
    "#   Evaluation Metrics\n",
    "# =======================\n",
    "from sklearn.metrics import accuracy_score, f1_score"
   ]
  },
  {
   "cell_type": "markdown",
   "id": "d052ce6c-ea8f-43fc-8be4-94d3a59aed6d",
   "metadata": {},
   "source": [
    "# Basic Tasks"
   ]
  },
  {
   "cell_type": "code",
   "execution_count": 43,
   "id": "07dbc56a-796b-420f-af17-d97b4cb9f2fa",
   "metadata": {},
   "outputs": [],
   "source": [
    "# Load Dataset\n",
    "df = pd.read_csv(\"./datasets/thyroid_disease.csv\")"
   ]
  },
  {
   "cell_type": "code",
   "execution_count": 44,
   "id": "2c5c43c0-b163-4b25-a95d-774fbfa58709",
   "metadata": {},
   "outputs": [
    {
     "name": "stdout",
     "output_type": "stream",
     "text": [
      "Head of the dataset:\n",
      "\n"
     ]
    },
    {
     "data": {
      "text/html": [
       "<div>\n",
       "<style scoped>\n",
       "    .dataframe tbody tr th:only-of-type {\n",
       "        vertical-align: middle;\n",
       "    }\n",
       "\n",
       "    .dataframe tbody tr th {\n",
       "        vertical-align: top;\n",
       "    }\n",
       "\n",
       "    .dataframe thead th {\n",
       "        text-align: right;\n",
       "    }\n",
       "</style>\n",
       "<table border=\"1\" class=\"dataframe\">\n",
       "  <thead>\n",
       "    <tr style=\"text-align: right;\">\n",
       "      <th></th>\n",
       "      <th>Age</th>\n",
       "      <th>Gender</th>\n",
       "      <th>Smoking</th>\n",
       "      <th>Hx Smoking</th>\n",
       "      <th>Hx Radiothreapy</th>\n",
       "      <th>Thyroid Function</th>\n",
       "      <th>Physical Examination</th>\n",
       "      <th>Adenopathy</th>\n",
       "      <th>Pathology</th>\n",
       "      <th>Focality</th>\n",
       "      <th>Risk</th>\n",
       "      <th>T</th>\n",
       "      <th>N</th>\n",
       "      <th>M</th>\n",
       "      <th>Stage</th>\n",
       "      <th>Response</th>\n",
       "      <th>Recurred</th>\n",
       "    </tr>\n",
       "  </thead>\n",
       "  <tbody>\n",
       "    <tr>\n",
       "      <th>0</th>\n",
       "      <td>27</td>\n",
       "      <td>F</td>\n",
       "      <td>No</td>\n",
       "      <td>No</td>\n",
       "      <td>No</td>\n",
       "      <td>Euthyroid</td>\n",
       "      <td>Single nodular goiter-left</td>\n",
       "      <td>No</td>\n",
       "      <td>Micropapillary</td>\n",
       "      <td>Uni-Focal</td>\n",
       "      <td>Low</td>\n",
       "      <td>T1a</td>\n",
       "      <td>N0</td>\n",
       "      <td>M0</td>\n",
       "      <td>I</td>\n",
       "      <td>Indeterminate</td>\n",
       "      <td>No</td>\n",
       "    </tr>\n",
       "    <tr>\n",
       "      <th>1</th>\n",
       "      <td>34</td>\n",
       "      <td>F</td>\n",
       "      <td>No</td>\n",
       "      <td>Yes</td>\n",
       "      <td>No</td>\n",
       "      <td>Euthyroid</td>\n",
       "      <td>Multinodular goiter</td>\n",
       "      <td>No</td>\n",
       "      <td>Micropapillary</td>\n",
       "      <td>Uni-Focal</td>\n",
       "      <td>Low</td>\n",
       "      <td>T1a</td>\n",
       "      <td>N0</td>\n",
       "      <td>M0</td>\n",
       "      <td>I</td>\n",
       "      <td>Excellent</td>\n",
       "      <td>No</td>\n",
       "    </tr>\n",
       "    <tr>\n",
       "      <th>2</th>\n",
       "      <td>30</td>\n",
       "      <td>F</td>\n",
       "      <td>No</td>\n",
       "      <td>No</td>\n",
       "      <td>No</td>\n",
       "      <td>Euthyroid</td>\n",
       "      <td>Single nodular goiter-right</td>\n",
       "      <td>No</td>\n",
       "      <td>Micropapillary</td>\n",
       "      <td>Uni-Focal</td>\n",
       "      <td>Low</td>\n",
       "      <td>T1a</td>\n",
       "      <td>N0</td>\n",
       "      <td>M0</td>\n",
       "      <td>I</td>\n",
       "      <td>Excellent</td>\n",
       "      <td>No</td>\n",
       "    </tr>\n",
       "    <tr>\n",
       "      <th>3</th>\n",
       "      <td>62</td>\n",
       "      <td>F</td>\n",
       "      <td>No</td>\n",
       "      <td>No</td>\n",
       "      <td>No</td>\n",
       "      <td>Euthyroid</td>\n",
       "      <td>Single nodular goiter-right</td>\n",
       "      <td>No</td>\n",
       "      <td>Micropapillary</td>\n",
       "      <td>Uni-Focal</td>\n",
       "      <td>Low</td>\n",
       "      <td>T1a</td>\n",
       "      <td>N0</td>\n",
       "      <td>M0</td>\n",
       "      <td>I</td>\n",
       "      <td>Excellent</td>\n",
       "      <td>No</td>\n",
       "    </tr>\n",
       "    <tr>\n",
       "      <th>4</th>\n",
       "      <td>62</td>\n",
       "      <td>F</td>\n",
       "      <td>No</td>\n",
       "      <td>No</td>\n",
       "      <td>No</td>\n",
       "      <td>Euthyroid</td>\n",
       "      <td>Multinodular goiter</td>\n",
       "      <td>No</td>\n",
       "      <td>Micropapillary</td>\n",
       "      <td>Multi-Focal</td>\n",
       "      <td>Low</td>\n",
       "      <td>T1a</td>\n",
       "      <td>N0</td>\n",
       "      <td>M0</td>\n",
       "      <td>I</td>\n",
       "      <td>Excellent</td>\n",
       "      <td>No</td>\n",
       "    </tr>\n",
       "  </tbody>\n",
       "</table>\n",
       "</div>"
      ],
      "text/plain": [
       "   Age Gender Smoking Hx Smoking Hx Radiothreapy Thyroid Function  \\\n",
       "0   27      F      No         No              No        Euthyroid   \n",
       "1   34      F      No        Yes              No        Euthyroid   \n",
       "2   30      F      No         No              No        Euthyroid   \n",
       "3   62      F      No         No              No        Euthyroid   \n",
       "4   62      F      No         No              No        Euthyroid   \n",
       "\n",
       "          Physical Examination Adenopathy       Pathology     Focality Risk  \\\n",
       "0   Single nodular goiter-left         No  Micropapillary    Uni-Focal  Low   \n",
       "1          Multinodular goiter         No  Micropapillary    Uni-Focal  Low   \n",
       "2  Single nodular goiter-right         No  Micropapillary    Uni-Focal  Low   \n",
       "3  Single nodular goiter-right         No  Micropapillary    Uni-Focal  Low   \n",
       "4          Multinodular goiter         No  Micropapillary  Multi-Focal  Low   \n",
       "\n",
       "     T   N   M Stage       Response Recurred  \n",
       "0  T1a  N0  M0     I  Indeterminate       No  \n",
       "1  T1a  N0  M0     I      Excellent       No  \n",
       "2  T1a  N0  M0     I      Excellent       No  \n",
       "3  T1a  N0  M0     I      Excellent       No  \n",
       "4  T1a  N0  M0     I      Excellent       No  "
      ]
     },
     "execution_count": 44,
     "metadata": {},
     "output_type": "execute_result"
    }
   ],
   "source": [
    "# Display First 5 Rows\n",
    "print(\"Head of the dataset:\\n\")\n",
    "df.head()"
   ]
  },
  {
   "cell_type": "code",
   "execution_count": 45,
   "id": "76c9dc79-33db-4330-a19a-aa3ee9c7c146",
   "metadata": {},
   "outputs": [
    {
     "name": "stdout",
     "output_type": "stream",
     "text": [
      "Shape of the dataset:\n",
      "\n"
     ]
    },
    {
     "data": {
      "text/plain": [
       "(383, 17)"
      ]
     },
     "execution_count": 45,
     "metadata": {},
     "output_type": "execute_result"
    }
   ],
   "source": [
    "# Shape of the Dataset\n",
    "print(\"Shape of the dataset:\\n\")\n",
    "df.shape"
   ]
  },
  {
   "cell_type": "code",
   "execution_count": 46,
   "id": "e338a5b2-926d-4e96-a3dc-a345e354bd44",
   "metadata": {},
   "outputs": [
    {
     "name": "stdout",
     "output_type": "stream",
     "text": [
      "Info about the dataset:\n",
      "\n",
      "<class 'pandas.core.frame.DataFrame'>\n",
      "RangeIndex: 383 entries, 0 to 382\n",
      "Data columns (total 17 columns):\n",
      " #   Column                Non-Null Count  Dtype \n",
      "---  ------                --------------  ----- \n",
      " 0   Age                   383 non-null    int64 \n",
      " 1   Gender                383 non-null    object\n",
      " 2   Smoking               383 non-null    object\n",
      " 3   Hx Smoking            383 non-null    object\n",
      " 4   Hx Radiothreapy       383 non-null    object\n",
      " 5   Thyroid Function      383 non-null    object\n",
      " 6   Physical Examination  383 non-null    object\n",
      " 7   Adenopathy            383 non-null    object\n",
      " 8   Pathology             383 non-null    object\n",
      " 9   Focality              383 non-null    object\n",
      " 10  Risk                  383 non-null    object\n",
      " 11  T                     383 non-null    object\n",
      " 12  N                     383 non-null    object\n",
      " 13  M                     383 non-null    object\n",
      " 14  Stage                 383 non-null    object\n",
      " 15  Response              383 non-null    object\n",
      " 16  Recurred              383 non-null    object\n",
      "dtypes: int64(1), object(16)\n",
      "memory usage: 51.0+ KB\n"
     ]
    }
   ],
   "source": [
    "# Info about Dataset\n",
    "print(\"Info about the dataset:\\n\")\n",
    "df.info()"
   ]
  },
  {
   "cell_type": "code",
   "execution_count": 47,
   "id": "56dd96f9-a778-4016-9552-b714c9af0d86",
   "metadata": {},
   "outputs": [
    {
     "name": "stdout",
     "output_type": "stream",
     "text": [
      "Total duplicate rows: 19\n",
      "\n",
      "✅ Duplicates removed.\n"
     ]
    }
   ],
   "source": [
    "# Check for Duplicates and Remove if Any\n",
    "duplicates = df.duplicated().sum()\n",
    "print(f\"Total duplicate rows: {duplicates}\\n\")\n",
    "\n",
    "if duplicates > 0:\n",
    "    df = df.drop_duplicates()\n",
    "    print(\"✅ Duplicates removed.\")"
   ]
  },
  {
   "cell_type": "code",
   "execution_count": 48,
   "id": "012dc84b-3d8e-4d74-8fd3-ba67e9cee6b8",
   "metadata": {},
   "outputs": [
    {
     "name": "stdout",
     "output_type": "stream",
     "text": [
      "Shape of dataset before removing missing values:(364, 17) \n",
      "\n",
      "Missing Value Percentage:\n",
      " Age                     0.0\n",
      "Gender                  0.0\n",
      "Smoking                 0.0\n",
      "Hx Smoking              0.0\n",
      "Hx Radiothreapy         0.0\n",
      "Thyroid Function        0.0\n",
      "Physical Examination    0.0\n",
      "Adenopathy              0.0\n",
      "Pathology               0.0\n",
      "Focality                0.0\n",
      "Risk                    0.0\n",
      "T                       0.0\n",
      "N                       0.0\n",
      "M                       0.0\n",
      "Stage                   0.0\n",
      "Response                0.0\n",
      "Recurred                0.0\n",
      "dtype: float64\n",
      "Shape of dataset after removing missing values:(364, 17) \n",
      "\n"
     ]
    }
   ],
   "source": [
    "# Check and Handle Missing Values\n",
    "print(f\"Shape of dataset before removing missing values:{df.shape} \\n\")\n",
    "\n",
    "missing = df.isnull().mean() * 100\n",
    "print(\"Missing Value Percentage:\\n\", missing)\n",
    "\n",
    "for col in df.columns[df.isnull().any()]:\n",
    "    if missing[col] < 5:\n",
    "        df.dropna(subset=[col], inplace=True)\n",
    "        print(f\"✅ Dropped rows with missing values in '{col}' (<5%).\")\n",
    "    else:\n",
    "        fill_value = df[col].mode()[0] if df[col].dtype == 'object' else df[col].median()\n",
    "        df[col].fillna(fill_value, inplace=True)\n",
    "        print(f\"🔧 Filled missing values in '{col}' with {'mode' if df[col].dtype == 'object' else 'median'}.\")\n",
    "\n",
    "print(f\"Shape of dataset after removing missing values:{df.shape} \\n\")"
   ]
  },
  {
   "cell_type": "code",
   "execution_count": 49,
   "id": "1c8f98a7-1dce-4633-9068-420aa6a3a4c5",
   "metadata": {},
   "outputs": [
    {
     "data": {
      "image/png": "[encoded data removed]",
      "text/plain": [
       "<Figure size 600x400 with 1 Axes>"
      ]
     },
     "metadata": {},
     "output_type": "display_data"
    },
    {
     "name": "stdout",
     "output_type": "stream",
     "text": [
      "Class Distribution:\n",
      "Recurred\n",
      "No     256\n",
      "Yes    108\n",
      "Name: count, dtype: int64\n",
      "✅ Class distribution is balanced. No need to apply imbalance techniques.\n"
     ]
    }
   ],
   "source": [
    "# Class Distribution (Assuming last column is target)\n",
    "target_col = df.columns[-1]\n",
    "\n",
    "# Plotting the Class Distribution\n",
    "plt.figure(figsize=(6,4))\n",
    "sns.countplot(x=target_col, data=df)\n",
    "plt.title('Class Distribution')\n",
    "plt.xlabel('Class')\n",
    "plt.ylabel('Count')\n",
    "plt.show()\n",
    "\n",
    "# Checking for Imbalance\n",
    "class_counts = df[target_col].value_counts()\n",
    "print(f\"Class Distribution:\\n{class_counts}\")\n",
    "\n",
    "# If class distribution is imbalanced, suggest techniques\n",
    "if class_counts.min() / class_counts.max() < 0.1:  # If the ratio between smallest and largest class is <10%\n",
    "    print(\"⚠️ Class distribution is imbalanced. Consider applying imbalance handling techniques (like SMOTE, undersampling, or oversampling).\")\n",
    "else:\n",
    "    print(\"✅ Class distribution is balanced. No need to apply imbalance techniques.\")\n"
   ]
  },
  {
   "cell_type": "markdown",
   "id": "0e91e01e-2a77-4426-88cc-687845d8c4e8",
   "metadata": {},
   "source": [
    "# Data Preprocessing"
   ]
  },
  {
   "cell_type": "markdown",
   "id": "aacfdaa2-09f1-411b-93d0-17a8c227cd21",
   "metadata": {},
   "source": [
    "## 1. Handling Data Types"
   ]
  },
  {
   "cell_type": "code",
   "execution_count": 50,
   "id": "9a7d4b74-9230-4ea7-8fce-2033a0b21414",
   "metadata": {},
   "outputs": [
    {
     "name": "stdout",
     "output_type": "stream",
     "text": [
      "Unique values in 'Gender':\n",
      "['F' 'M']\n",
      "\n",
      "Unique values in 'Smoking':\n",
      "['No' 'Yes']\n",
      "\n",
      "Unique values in 'Hx Smoking':\n",
      "['No' 'Yes']\n",
      "\n",
      "Unique values in 'Hx Radiothreapy':\n",
      "['No' 'Yes']\n",
      "\n",
      "Unique values in 'Thyroid Function':\n",
      "['Euthyroid' 'Clinical Hyperthyroidism' 'Clinical Hypothyroidism'\n",
      " 'Subclinical Hyperthyroidism' 'Subclinical Hypothyroidism']\n",
      "\n",
      "Unique values in 'Physical Examination':\n",
      "['Single nodular goiter-left' 'Multinodular goiter'\n",
      " 'Single nodular goiter-right' 'Normal' 'Diffuse goiter']\n",
      "\n",
      "Unique values in 'Adenopathy':\n",
      "['No' 'Right' 'Extensive' 'Left' 'Bilateral' 'Posterior']\n",
      "\n",
      "Unique values in 'Pathology':\n",
      "['Micropapillary' 'Papillary' 'Follicular' 'Hurthel cell']\n",
      "\n",
      "Unique values in 'Focality':\n",
      "['Uni-Focal' 'Multi-Focal']\n",
      "\n",
      "Unique values in 'Risk':\n",
      "['Low' 'Intermediate' 'High']\n",
      "\n",
      "Unique values in 'T':\n",
      "['T1a' 'T1b' 'T2' 'T3a' 'T3b' 'T4a' 'T4b']\n",
      "\n",
      "Unique values in 'N':\n",
      "['N0' 'N1b' 'N1a']\n",
      "\n",
      "Unique values in 'M':\n",
      "['M0' 'M1']\n",
      "\n",
      "Unique values in 'Stage':\n",
      "['I' 'II' 'IVB' 'III' 'IVA']\n",
      "\n",
      "Unique values in 'Response':\n",
      "['Indeterminate' 'Excellent' 'Structural Incomplete'\n",
      " 'Biochemical Incomplete']\n",
      "\n",
      "Unique values in 'Recurred':\n",
      "['No' 'Yes']\n",
      "\n"
     ]
    }
   ],
   "source": [
    "# Iterate through columns and check for 'object' type\n",
    "for col in df.columns:\n",
    "    if df[col].dtype == 'object':  # Check if the column is of object type\n",
    "        print(f\"Unique values in '{col}':\")\n",
    "        print(df[col].unique())\n",
    "        print()  # For better readability"
   ]
  },
  {
   "cell_type": "code",
   "execution_count": 51,
   "id": "eb583306-6c96-4d81-a099-902d8ca4926e",
   "metadata": {},
   "outputs": [
    {
     "name": "stdout",
     "output_type": "stream",
     "text": [
      "✅ Label Encoded 'Gender'.\n",
      "✅ Label Encoded 'Smoking'.\n",
      "✅ Label Encoded 'Hx Smoking'.\n",
      "✅ Label Encoded 'Hx Radiothreapy'.\n",
      "✅ Label Encoded 'Focality'.\n",
      "✅ Label Encoded 'Recurred'.\n",
      "\n",
      "✅ One-Hot Encoding applied to multi-class columns.\n",
      "\n",
      "✅ 'Recurred' column moved to the last.\n"
     ]
    }
   ],
   "source": [
    "# 1. Label Encoding for binary columns (including 'Recurred')\n",
    "binary_columns = ['Gender', 'Smoking', 'Hx Smoking', 'Hx Radiothreapy', 'Focality', 'Recurred']\n",
    "\n",
    "label_encoder = LabelEncoder()\n",
    "for col in binary_columns:\n",
    "    df[col] = label_encoder.fit_transform(df[col])\n",
    "    print(f\"✅ Label Encoded '{col}'.\")\n",
    "\n",
    "# 2. One-Hot Encoding for multi-class columns\n",
    "multi_class_columns = ['Thyroid Function', 'Physical Examination', 'Adenopathy', \n",
    "                       'Pathology', 'Risk', 'T', 'N', 'M', 'Stage', 'Response']\n",
    "\n",
    "df = pd.get_dummies(df, columns=multi_class_columns, drop_first=True)\n",
    "print(\"\\n✅ One-Hot Encoding applied to multi-class columns.\")\n",
    "\n",
    "# 3. Convert bool columns to int (0/1)\n",
    "bool_cols = df.select_dtypes(include='bool').columns\n",
    "\n",
    "for col in bool_cols:\n",
    "    df[col] = df[col].astype(int)\n",
    "\n",
    "# 4. Move 'Recurred' column to the last\n",
    "recurred = df.pop('Recurred')\n",
    "df['Recurred'] = recurred\n",
    "print(\"\\n✅ 'Recurred' column moved to the last.\")\n",
    "\n",
    "# 5. Dataset is ready!\n"
   ]
  },
  {
   "cell_type": "code",
   "execution_count": 52,
   "id": "7fe17c03-621d-455f-b7ec-f6fe78c52c26",
   "metadata": {},
   "outputs": [
    {
     "name": "stdout",
     "output_type": "stream",
     "text": [
      "<class 'pandas.core.frame.DataFrame'>\n",
      "Index: 364 entries, 0 to 382\n",
      "Data columns (total 41 columns):\n",
      " #   Column                                            Non-Null Count  Dtype\n",
      "---  ------                                            --------------  -----\n",
      " 0   Age                                               364 non-null    int64\n",
      " 1   Gender                                            364 non-null    int32\n",
      " 2   Smoking                                           364 non-null    int32\n",
      " 3   Hx Smoking                                        364 non-null    int32\n",
      " 4   Hx Radiothreapy                                   364 non-null    int32\n",
      " 5   Focality                                          364 non-null    int32\n",
      " 6   Thyroid Function_Clinical Hypothyroidism          364 non-null    int32\n",
      " 7   Thyroid Function_Euthyroid                        364 non-null    int32\n",
      " 8   Thyroid Function_Subclinical Hyperthyroidism      364 non-null    int32\n",
      " 9   Thyroid Function_Subclinical Hypothyroidism       364 non-null    int32\n",
      " 10  Physical Examination_Multinodular goiter          364 non-null    int32\n",
      " 11  Physical Examination_Normal                       364 non-null    int32\n",
      " 12  Physical Examination_Single nodular goiter-left   364 non-null    int32\n",
      " 13  Physical Examination_Single nodular goiter-right  364 non-null    int32\n",
      " 14  Adenopathy_Extensive                              364 non-null    int32\n",
      " 15  Adenopathy_Left                                   364 non-null    int32\n",
      " 16  Adenopathy_No                                     364 non-null    int32\n",
      " 17  Adenopathy_Posterior                              364 non-null    int32\n",
      " 18  Adenopathy_Right                                  364 non-null    int32\n",
      " 19  Pathology_Hurthel cell                            364 non-null    int32\n",
      " 20  Pathology_Micropapillary                          364 non-null    int32\n",
      " 21  Pathology_Papillary                               364 non-null    int32\n",
      " 22  Risk_Intermediate                                 364 non-null    int32\n",
      " 23  Risk_Low                                          364 non-null    int32\n",
      " 24  T_T1b                                             364 non-null    int32\n",
      " 25  T_T2                                              364 non-null    int32\n",
      " 26  T_T3a                                             364 non-null    int32\n",
      " 27  T_T3b                                             364 non-null    int32\n",
      " 28  T_T4a                                             364 non-null    int32\n",
      " 29  T_T4b                                             364 non-null    int32\n",
      " 30  N_N1a                                             364 non-null    int32\n",
      " 31  N_N1b                                             364 non-null    int32\n",
      " 32  M_M1                                              364 non-null    int32\n",
      " 33  Stage_II                                          364 non-null    int32\n",
      " 34  Stage_III                                         364 non-null    int32\n",
      " 35  Stage_IVA                                         364 non-null    int32\n",
      " 36  Stage_IVB                                         364 non-null    int32\n",
      " 37  Response_Excellent                                364 non-null    int32\n",
      " 38  Response_Indeterminate                            364 non-null    int32\n",
      " 39  Response_Structural Incomplete                    364 non-null    int32\n",
      " 40  Recurred                                          364 non-null    int32\n",
      "dtypes: int32(40), int64(1)\n",
      "memory usage: 62.6 KB\n"
     ]
    }
   ],
   "source": [
    "df.info()"
   ]
  },
  {
   "cell_type": "markdown",
   "id": "9de13afb-8f57-408b-b82d-fc474047edd3",
   "metadata": {},
   "source": [
    "## 3. Standardization data"
   ]
  },
  {
   "cell_type": "code",
   "execution_count": 53,
   "id": "aec7d4aa-3814-4f69-99d8-0d2bebe55c74",
   "metadata": {},
   "outputs": [
    {
     "name": "stdout",
     "output_type": "stream",
     "text": [
      "✅ StandardScaler applied to feature columns only (Recurred untouched).\n"
     ]
    }
   ],
   "source": [
    "# Separate features and target\n",
    "X = df.drop('Recurred', axis=1)  # Features\n",
    "y = df['Recurred']               # Target\n",
    "\n",
    "# Initialize StandardScaler\n",
    "scaler = StandardScaler()\n",
    "\n",
    "# Fit and transform X\n",
    "X_scaled = scaler.fit_transform(X)\n",
    "\n",
    "# Convert X_scaled back to DataFrame with original column names\n",
    "X_scaled = pd.DataFrame(X_scaled, columns=X.columns)\n",
    "\n",
    "# Merge scaled X and y back\n",
    "df_scaled = pd.concat([X_scaled, y.reset_index(drop=True)], axis=1)\n",
    "\n",
    "print(\"✅ StandardScaler applied to feature columns only (Recurred untouched).\")\n"
   ]
  },
  {
   "cell_type": "markdown",
   "id": "23c6b2e5-4553-4a0e-9036-e3796f7489ce",
   "metadata": {},
   "source": [
    "# Modeling"
   ]
  },
  {
   "cell_type": "code",
   "execution_count": 54,
   "id": "2cfb821f-0d3c-43af-9f2c-00466779dd72",
   "metadata": {},
   "outputs": [],
   "source": [
    "# separate features and class\n",
    "X = df_scaled.iloc[:,:-1]\n",
    "y = df_scaled.iloc[:, -1]\n",
    "\n",
    "# Split the dataset into training and testing sets\n",
    "X_train, X_test, y_train, y_test = train_test_split(X, y, test_size=0.2, random_state=42)\n",
    "\n",
    "# Get the feature names from X for future use in Feature selection techniques\n",
    "feature_names = X.columns.tolist()\n",
    "\n",
    "# Define models\n",
    "models = {\n",
    "    'KNN': KNeighborsClassifier(),\n",
    "    'Logistic Regression': LogisticRegression(),\n",
    "    'Decision Tree': DecisionTreeClassifier(),\n",
    "    'SVM': SVC(),\n",
    "    'Naive Bayes': GaussianNB()\n",
    "}"
   ]
  },
  {
   "cell_type": "code",
   "execution_count": 56,
   "id": "ed285b29-543b-4173-9d60-bd69502ddcfa",
   "metadata": {},
   "outputs": [
    {
     "name": "stdout",
     "output_type": "stream",
     "text": [
      "Evaluating models with all features: \n",
      "\n",
      "Baseline model accuracies (with all features):\n",
      "{'KNN': 90.41, 'Logistic Regression': 94.52, 'Decision Tree': 94.52, 'SVM': 95.89, 'Naive Bayes': 93.15}\n",
      "\n",
      "Baseline model F1 scores (with all features):\n",
      "{'KNN': 90.02, 'Logistic Regression': 94.44, 'Decision Tree': 94.52, 'SVM': 95.86, 'Naive Bayes': 93.1}\n"
     ]
    }
   ],
   "source": [
    "print(\"Evaluating models with all features: \\n\")\n",
    "\n",
    "# Separate dictionaries for each metric\n",
    "all_features_model_accuracies = {}\n",
    "all_features_model_f1_scores = {}\n",
    "\n",
    "# Loop through each model\n",
    "for model_name, model_instance in models.items():\n",
    "    model_instance.fit(X_train, y_train)\n",
    "    y_pred = model_instance.predict(X_test)\n",
    "\n",
    "    # Save metrics\n",
    "    accuracy = round(accuracy_score(y_test, y_pred) * 100, 2)\n",
    "    f1 = round(f1_score(y_test, y_pred, average='weighted') * 100, 2)\n",
    "\n",
    "    # Add metrics to the respective dictionaries\n",
    "    all_features_model_accuracies[model_name] = accuracy\n",
    "    all_features_model_f1_scores[model_name] = f1\n",
    "\n",
    "# Print results\n",
    "print(\"Baseline model accuracies (with all features):\")\n",
    "print(all_features_model_accuracies)\n",
    "\n",
    "print(\"\\nBaseline model F1 scores (with all features):\")\n",
    "print(all_features_model_f1_scores)"
   ]
  },
  {
   "cell_type": "markdown",
   "id": "2d245d67-e3cf-42e0-9090-8485015f668c",
   "metadata": {},
   "source": [
    "# Pipeline + pickle"
   ]
  },
  {
   "cell_type": "code",
   "execution_count": 57,
   "id": "96013a4f-49cd-4138-ba7d-be7cd7ac2482",
   "metadata": {},
   "outputs": [
    {
     "name": "stdout",
     "output_type": "stream",
     "text": [
      "✅ Logistic Regression model saved to './models/thyroid_disease_model.pkl'\n"
     ]
    }
   ],
   "source": [
    "# Create the directory if it doesn't exist\n",
    "os.makedirs('./models', exist_ok=True)\n",
    "\n",
    "# Assuming the 'models' dictionary already exists and the model is trained\n",
    "thyroid_disease_model = models['Logistic Regression']\n",
    "\n",
    "# Save the model to the specified path\n",
    "with open('./models/thyroid_disease_model.pkl', 'wb') as file:\n",
    "    pickle.dump(thyroid_disease_model, file)\n",
    "\n",
    "print(\"✅ Logistic Regression model saved to './models/thyroid_disease_model.pkl'\")"
   ]
  },
  {
   "cell_type": "markdown",
   "id": "7aea0cc8-7dae-4072-a75e-4829cb2708d3",
   "metadata": {},
   "source": [
    "# Result"
   ]
  },
  {
   "cell_type": "code",
   "execution_count": 58,
   "id": "6665b30a-830b-4aaa-bc0c-5b633ea89f26",
   "metadata": {},
   "outputs": [
    {
     "data": {
      "image/png": "[encoded data removed]",
      "text/plain": [
       "<Figure size 800x500 with 1 Axes>"
      ]
     },
     "metadata": {},
     "output_type": "display_data"
    },
    {
     "data": {
      "image/png": "[encoded data removed]",
      "text/plain": [
       "<Figure size 800x500 with 1 Axes>"
      ]
     },
     "metadata": {},
     "output_type": "display_data"
    }
   ],
   "source": [
    "# Dynamically extract models and values\n",
    "model = list(all_features_model_accuracies.keys())\n",
    "accuracies = list(all_features_model_accuracies.values())\n",
    "f1_scores = list(all_features_model_f1_scores.values())\n",
    "\n",
    "# Validate that the dictionaries have the same keys\n",
    "if set(all_features_model_accuracies.keys()) != set(all_features_model_f1_scores.keys()):\n",
    "    raise ValueError(\"Dictionaries must have the same models as keys\")\n",
    "\n",
    "# --- Plot 1: Bar Chart for Accuracies ---\n",
    "plt.figure(figsize=(8, 5))\n",
    "x = np.arange(len(models))\n",
    "plt.bar(x, accuracies, color='skyblue')\n",
    "plt.xlabel('Models')\n",
    "plt.ylabel('Accuracy (%)')\n",
    "plt.title('Model Performance: Accuracy')\n",
    "plt.xticks(x, models, rotation=45)\n",
    "plt.grid(axis='y', linestyle='--', alpha=0.7)\n",
    "plt.tight_layout()\n",
    "plt.show()\n",
    "\n",
    "# --- Plot 2: Bar Chart for F1 Scores ---\n",
    "plt.figure(figsize=(8, 5))\n",
    "x = np.arange(len(models))\n",
    "plt.bar(x, f1_scores, color='lightcoral')\n",
    "plt.xlabel('Models')\n",
    "plt.ylabel('F1 Score (%)')\n",
    "plt.title('Model Performance: F1 Scores')\n",
    "plt.xticks(x, models, rotation=45)\n",
    "plt.grid(axis='y', linestyle='--', alpha=0.7)\n",
    "plt.tight_layout()\n",
    "plt.show()"
   ]
  },
  {
   "cell_type": "code",
   "execution_count": null,
   "id": "ee82a3a5-46c3-4d9f-b69b-b5a4284a5873",
   "metadata": {},
   "outputs": [],
   "source": []
  }
 ],
 "metadata": {
  "kernelspec": {
   "display_name": "Python 3 (ipykernel)",
   "language": "python",
   "name": "python3"
  },
  "language_info": {
   "codemirror_mode": {
    "name": "ipython",
    "version": 3
   },
   "file_extension": ".py",
   "mimetype": "text/x-python",
   "name": "python",
   "nbconvert_exporter": "python",
   "pygments_lexer": "ipython3",
   "version": "3.12.7"
  }
 },
 "nbformat": 4,
 "nbformat_minor": 5
}
