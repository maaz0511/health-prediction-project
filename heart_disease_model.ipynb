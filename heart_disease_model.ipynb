{
 "cells": [
  {
   "cell_type": "code",
   "execution_count": 1,
   "id": "89c203b4-d570-4dd2-83c5-5c4e9bbbfa81",
   "metadata": {},
   "outputs": [],
   "source": [
    "# =======================\n",
    "#     Core Libraries\n",
    "# =======================\n",
    "import os\n",
    "import pickle\n",
    "import numpy as np\n",
    "import pandas as pd\n",
    "\n",
    "# =======================\n",
    "#   Data Visualization\n",
    "# =======================\n",
    "import matplotlib.pyplot as plt\n",
    "import seaborn as sns\n",
    "\n",
    "# =======================\n",
    "#      Preprocessing\n",
    "# =======================\n",
    "from sklearn.model_selection import train_test_split\n",
    "from sklearn.preprocessing import StandardScaler, LabelEncoder\n",
    "from imblearn.over_sampling import SMOTE\n",
    "from sklearn.feature_selection import SequentialFeatureSelector\n",
    "\n",
    "\n",
    "# =======================\n",
    "#       ML Models\n",
    "# =======================\n",
    "from sklearn.neighbors import KNeighborsClassifier\n",
    "from sklearn.tree import DecisionTreeClassifier\n",
    "from sklearn.svm import SVC\n",
    "from sklearn.naive_bayes import GaussianNB\n",
    "from sklearn.linear_model import LogisticRegression\n",
    "\n",
    "# =======================\n",
    "#   Evaluation Metrics\n",
    "# =======================\n",
    "from sklearn.metrics import accuracy_score, f1_score"
   ]
  },
  {
   "cell_type": "code",
   "execution_count": 2,
   "id": "6027090b-bc4f-4dab-a877-7efc4521609c",
   "metadata": {},
   "outputs": [],
   "source": [
    "# Load Dataset\n",
    "df = pd.read_csv(\"./datasets/heart_disease.csv\")"
   ]
  },
  {
   "cell_type": "code",
   "execution_count": 3,
   "id": "45f0db1a-189c-4f60-ada1-3b4e4a6f4e09",
   "metadata": {},
   "outputs": [
    {
     "name": "stdout",
     "output_type": "stream",
     "text": [
      "Head of the dataset:\n",
      "\n"
     ]
    },
    {
     "data": {
      "text/html": [
       "<div>\n",
       "<style scoped>\n",
       "    .dataframe tbody tr th:only-of-type {\n",
       "        vertical-align: middle;\n",
       "    }\n",
       "\n",
       "    .dataframe tbody tr th {\n",
       "        vertical-align: top;\n",
       "    }\n",
       "\n",
       "    .dataframe thead th {\n",
       "        text-align: right;\n",
       "    }\n",
       "</style>\n",
       "<table border=\"1\" class=\"dataframe\">\n",
       "  <thead>\n",
       "    <tr style=\"text-align: right;\">\n",
       "      <th></th>\n",
       "      <th>age</th>\n",
       "      <th>sex</th>\n",
       "      <th>cp</th>\n",
       "      <th>trestbps</th>\n",
       "      <th>chol</th>\n",
       "      <th>fbs</th>\n",
       "      <th>restecg</th>\n",
       "      <th>thalach</th>\n",
       "      <th>exang</th>\n",
       "      <th>oldpeak</th>\n",
       "      <th>slope</th>\n",
       "      <th>ca</th>\n",
       "      <th>thal</th>\n",
       "      <th>target</th>\n",
       "    </tr>\n",
       "  </thead>\n",
       "  <tbody>\n",
       "    <tr>\n",
       "      <th>0</th>\n",
       "      <td>52</td>\n",
       "      <td>1</td>\n",
       "      <td>0</td>\n",
       "      <td>125</td>\n",
       "      <td>212</td>\n",
       "      <td>0</td>\n",
       "      <td>1</td>\n",
       "      <td>168</td>\n",
       "      <td>0</td>\n",
       "      <td>1.0</td>\n",
       "      <td>2</td>\n",
       "      <td>2</td>\n",
       "      <td>3</td>\n",
       "      <td>0</td>\n",
       "    </tr>\n",
       "    <tr>\n",
       "      <th>1</th>\n",
       "      <td>53</td>\n",
       "      <td>1</td>\n",
       "      <td>0</td>\n",
       "      <td>140</td>\n",
       "      <td>203</td>\n",
       "      <td>1</td>\n",
       "      <td>0</td>\n",
       "      <td>155</td>\n",
       "      <td>1</td>\n",
       "      <td>3.1</td>\n",
       "      <td>0</td>\n",
       "      <td>0</td>\n",
       "      <td>3</td>\n",
       "      <td>0</td>\n",
       "    </tr>\n",
       "    <tr>\n",
       "      <th>2</th>\n",
       "      <td>70</td>\n",
       "      <td>1</td>\n",
       "      <td>0</td>\n",
       "      <td>145</td>\n",
       "      <td>174</td>\n",
       "      <td>0</td>\n",
       "      <td>1</td>\n",
       "      <td>125</td>\n",
       "      <td>1</td>\n",
       "      <td>2.6</td>\n",
       "      <td>0</td>\n",
       "      <td>0</td>\n",
       "      <td>3</td>\n",
       "      <td>0</td>\n",
       "    </tr>\n",
       "    <tr>\n",
       "      <th>3</th>\n",
       "      <td>61</td>\n",
       "      <td>1</td>\n",
       "      <td>0</td>\n",
       "      <td>148</td>\n",
       "      <td>203</td>\n",
       "      <td>0</td>\n",
       "      <td>1</td>\n",
       "      <td>161</td>\n",
       "      <td>0</td>\n",
       "      <td>0.0</td>\n",
       "      <td>2</td>\n",
       "      <td>1</td>\n",
       "      <td>3</td>\n",
       "      <td>0</td>\n",
       "    </tr>\n",
       "    <tr>\n",
       "      <th>4</th>\n",
       "      <td>62</td>\n",
       "      <td>0</td>\n",
       "      <td>0</td>\n",
       "      <td>138</td>\n",
       "      <td>294</td>\n",
       "      <td>1</td>\n",
       "      <td>1</td>\n",
       "      <td>106</td>\n",
       "      <td>0</td>\n",
       "      <td>1.9</td>\n",
       "      <td>1</td>\n",
       "      <td>3</td>\n",
       "      <td>2</td>\n",
       "      <td>0</td>\n",
       "    </tr>\n",
       "  </tbody>\n",
       "</table>\n",
       "</div>"
      ],
      "text/plain": [
       "   age  sex  cp  trestbps  chol  fbs  restecg  thalach  exang  oldpeak  slope  \\\n",
       "0   52    1   0       125   212    0        1      168      0      1.0      2   \n",
       "1   53    1   0       140   203    1        0      155      1      3.1      0   \n",
       "2   70    1   0       145   174    0        1      125      1      2.6      0   \n",
       "3   61    1   0       148   203    0        1      161      0      0.0      2   \n",
       "4   62    0   0       138   294    1        1      106      0      1.9      1   \n",
       "\n",
       "   ca  thal  target  \n",
       "0   2     3       0  \n",
       "1   0     3       0  \n",
       "2   0     3       0  \n",
       "3   1     3       0  \n",
       "4   3     2       0  "
      ]
     },
     "execution_count": 3,
     "metadata": {},
     "output_type": "execute_result"
    }
   ],
   "source": [
    "# Display First 5 Rows\n",
    "print(\"Head of the dataset:\\n\")\n",
    "df.head()"
   ]
  },
  {
   "cell_type": "code",
   "execution_count": 4,
   "id": "2bd12b28-475a-4af9-a323-13999b8b1653",
   "metadata": {},
   "outputs": [
    {
     "name": "stdout",
     "output_type": "stream",
     "text": [
      "Shape of the dataset:\n",
      "\n"
     ]
    },
    {
     "data": {
      "text/plain": [
       "(1025, 14)"
      ]
     },
     "execution_count": 4,
     "metadata": {},
     "output_type": "execute_result"
    }
   ],
   "source": [
    "# Shape of the Dataset\n",
    "print(\"Shape of the dataset:\\n\")\n",
    "df.shape"
   ]
  },
  {
   "cell_type": "code",
   "execution_count": 5,
   "id": "4d289592-ea3a-4fe6-b498-b61088160431",
   "metadata": {},
   "outputs": [
    {
     "name": "stdout",
     "output_type": "stream",
     "text": [
      "Info about the dataset:\n",
      "\n",
      "<class 'pandas.core.frame.DataFrame'>\n",
      "RangeIndex: 1025 entries, 0 to 1024\n",
      "Data columns (total 14 columns):\n",
      " #   Column    Non-Null Count  Dtype  \n",
      "---  ------    --------------  -----  \n",
      " 0   age       1025 non-null   int64  \n",
      " 1   sex       1025 non-null   int64  \n",
      " 2   cp        1025 non-null   int64  \n",
      " 3   trestbps  1025 non-null   int64  \n",
      " 4   chol      1025 non-null   int64  \n",
      " 5   fbs       1025 non-null   int64  \n",
      " 6   restecg   1025 non-null   int64  \n",
      " 7   thalach   1025 non-null   int64  \n",
      " 8   exang     1025 non-null   int64  \n",
      " 9   oldpeak   1025 non-null   float64\n",
      " 10  slope     1025 non-null   int64  \n",
      " 11  ca        1025 non-null   int64  \n",
      " 12  thal      1025 non-null   int64  \n",
      " 13  target    1025 non-null   int64  \n",
      "dtypes: float64(1), int64(13)\n",
      "memory usage: 112.2 KB\n"
     ]
    }
   ],
   "source": [
    "# Info about Dataset\n",
    "print(\"Info about the dataset:\\n\")\n",
    "df.info()"
   ]
  },
  {
   "cell_type": "code",
   "execution_count": 6,
   "id": "6d6e40e4-625f-4967-8cf8-e350cbe401f4",
   "metadata": {},
   "outputs": [
    {
     "name": "stdout",
     "output_type": "stream",
     "text": [
      "Total duplicate rows: 723\n",
      "\n",
      "✅ Duplicates removed.\n"
     ]
    }
   ],
   "source": [
    "# Check for Duplicates and Remove if Any\n",
    "duplicates = df.duplicated().sum()\n",
    "print(f\"Total duplicate rows: {duplicates}\\n\")\n",
    "\n",
    "if duplicates > 0:\n",
    "    df = df.drop_duplicates()\n",
    "    print(\"✅ Duplicates removed.\")"
   ]
  },
  {
   "cell_type": "code",
   "execution_count": 7,
   "id": "63ddacb2-7cf5-4deb-bce5-dad343b66e40",
   "metadata": {},
   "outputs": [
    {
     "name": "stdout",
     "output_type": "stream",
     "text": [
      "Shape of dataset before removing missing values:(302, 14) \n",
      "\n",
      "Missing Value Percentage:\n",
      " age         0.0\n",
      "sex         0.0\n",
      "cp          0.0\n",
      "trestbps    0.0\n",
      "chol        0.0\n",
      "fbs         0.0\n",
      "restecg     0.0\n",
      "thalach     0.0\n",
      "exang       0.0\n",
      "oldpeak     0.0\n",
      "slope       0.0\n",
      "ca          0.0\n",
      "thal        0.0\n",
      "target      0.0\n",
      "dtype: float64\n",
      "Shape of dataset after removing missing values:(302, 14) \n",
      "\n"
     ]
    }
   ],
   "source": [
    "# Check and Handle Missing Values\n",
    "print(f\"Shape of dataset before removing missing values:{df.shape} \\n\")\n",
    "\n",
    "missing = df.isnull().mean() * 100\n",
    "print(\"Missing Value Percentage:\\n\", missing)\n",
    "\n",
    "for col in df.columns[df.isnull().any()]:\n",
    "    if missing[col] < 5:\n",
    "        df.dropna(subset=[col], inplace=True)\n",
    "        print(f\"✅ Dropped rows with missing values in '{col}' (<5%).\")\n",
    "    else:\n",
    "        fill_value = df[col].mode()[0] if df[col].dtype == 'object' else df[col].median()\n",
    "        df[col].fillna(fill_value, inplace=True)\n",
    "        print(f\"🔧 Filled missing values in '{col}' with {'mode' if df[col].dtype == 'object' else 'median'}.\")\n",
    "\n",
    "print(f\"Shape of dataset after removing missing values:{df.shape} \\n\")"
   ]
  },
  {
   "cell_type": "code",
   "execution_count": 8,
   "id": "80a57777-39e6-4182-a6c0-1d87084e5968",
   "metadata": {},
   "outputs": [
    {
     "data": {
      "image/png": "[encoded data removed]",
      "text/plain": [
       "<Figure size 600x400 with 1 Axes>"
      ]
     },
     "metadata": {},
     "output_type": "display_data"
    },
    {
     "name": "stdout",
     "output_type": "stream",
     "text": [
      "Class Distribution:\n",
      "target\n",
      "1    164\n",
      "0    138\n",
      "Name: count, dtype: int64\n",
      "✅ Class distribution is balanced. No need to apply imbalance techniques.\n"
     ]
    }
   ],
   "source": [
    "# Class Distribution (Assuming last column is target)\n",
    "target_col = df.columns[-1]\n",
    "\n",
    "# Plotting the Class Distribution\n",
    "plt.figure(figsize=(6,4))\n",
    "sns.countplot(x=target_col, data=df)\n",
    "plt.title('Class Distribution')\n",
    "plt.xlabel('Class')\n",
    "plt.ylabel('Count')\n",
    "plt.show()\n",
    "\n",
    "# Checking for Imbalance\n",
    "class_counts = df[target_col].value_counts()\n",
    "print(f\"Class Distribution:\\n{class_counts}\")\n",
    "\n",
    "# If class distribution is imbalanced, suggest techniques\n",
    "if class_counts.min() / class_counts.max() < 0.1:  # If the ratio between smallest and largest class is <10%\n",
    "    print(\"⚠️ Class distribution is imbalanced. Consider applying imbalance handling techniques (like SMOTE, undersampling, or oversampling).\")\n",
    "else:\n",
    "    print(\"✅ Class distribution is balanced. No need to apply imbalance techniques.\")\n"
   ]
  },
  {
   "cell_type": "code",
   "execution_count": 9,
   "id": "c54f782e-394d-4692-886d-d62987895ce3",
   "metadata": {},
   "outputs": [
    {
     "data": {
      "text/html": [
       "<div>\n",
       "<style scoped>\n",
       "    .dataframe tbody tr th:only-of-type {\n",
       "        vertical-align: middle;\n",
       "    }\n",
       "\n",
       "    .dataframe tbody tr th {\n",
       "        vertical-align: top;\n",
       "    }\n",
       "\n",
       "    .dataframe thead th {\n",
       "        text-align: right;\n",
       "    }\n",
       "</style>\n",
       "<table border=\"1\" class=\"dataframe\">\n",
       "  <thead>\n",
       "    <tr style=\"text-align: right;\">\n",
       "      <th></th>\n",
       "      <th>Age</th>\n",
       "      <th>Sex</th>\n",
       "      <th>ChestPainType</th>\n",
       "      <th>RestingBP</th>\n",
       "      <th>Cholesterol</th>\n",
       "      <th>FastingBloodSugar</th>\n",
       "      <th>RestingECG</th>\n",
       "      <th>MaxHeartRate</th>\n",
       "      <th>ExerciseAngina</th>\n",
       "      <th>STDepression</th>\n",
       "      <th>STSlope</th>\n",
       "      <th>MajorVessels</th>\n",
       "      <th>Thalassemia</th>\n",
       "      <th>HeartDisease</th>\n",
       "    </tr>\n",
       "  </thead>\n",
       "  <tbody>\n",
       "    <tr>\n",
       "      <th>0</th>\n",
       "      <td>52</td>\n",
       "      <td>1</td>\n",
       "      <td>0</td>\n",
       "      <td>125</td>\n",
       "      <td>212</td>\n",
       "      <td>0</td>\n",
       "      <td>1</td>\n",
       "      <td>168</td>\n",
       "      <td>0</td>\n",
       "      <td>1.0</td>\n",
       "      <td>2</td>\n",
       "      <td>2</td>\n",
       "      <td>3</td>\n",
       "      <td>0</td>\n",
       "    </tr>\n",
       "    <tr>\n",
       "      <th>1</th>\n",
       "      <td>53</td>\n",
       "      <td>1</td>\n",
       "      <td>0</td>\n",
       "      <td>140</td>\n",
       "      <td>203</td>\n",
       "      <td>1</td>\n",
       "      <td>0</td>\n",
       "      <td>155</td>\n",
       "      <td>1</td>\n",
       "      <td>3.1</td>\n",
       "      <td>0</td>\n",
       "      <td>0</td>\n",
       "      <td>3</td>\n",
       "      <td>0</td>\n",
       "    </tr>\n",
       "    <tr>\n",
       "      <th>2</th>\n",
       "      <td>70</td>\n",
       "      <td>1</td>\n",
       "      <td>0</td>\n",
       "      <td>145</td>\n",
       "      <td>174</td>\n",
       "      <td>0</td>\n",
       "      <td>1</td>\n",
       "      <td>125</td>\n",
       "      <td>1</td>\n",
       "      <td>2.6</td>\n",
       "      <td>0</td>\n",
       "      <td>0</td>\n",
       "      <td>3</td>\n",
       "      <td>0</td>\n",
       "    </tr>\n",
       "    <tr>\n",
       "      <th>3</th>\n",
       "      <td>61</td>\n",
       "      <td>1</td>\n",
       "      <td>0</td>\n",
       "      <td>148</td>\n",
       "      <td>203</td>\n",
       "      <td>0</td>\n",
       "      <td>1</td>\n",
       "      <td>161</td>\n",
       "      <td>0</td>\n",
       "      <td>0.0</td>\n",
       "      <td>2</td>\n",
       "      <td>1</td>\n",
       "      <td>3</td>\n",
       "      <td>0</td>\n",
       "    </tr>\n",
       "    <tr>\n",
       "      <th>4</th>\n",
       "      <td>62</td>\n",
       "      <td>0</td>\n",
       "      <td>0</td>\n",
       "      <td>138</td>\n",
       "      <td>294</td>\n",
       "      <td>1</td>\n",
       "      <td>1</td>\n",
       "      <td>106</td>\n",
       "      <td>0</td>\n",
       "      <td>1.9</td>\n",
       "      <td>1</td>\n",
       "      <td>3</td>\n",
       "      <td>2</td>\n",
       "      <td>0</td>\n",
       "    </tr>\n",
       "  </tbody>\n",
       "</table>\n",
       "</div>"
      ],
      "text/plain": [
       "   Age  Sex  ChestPainType  RestingBP  Cholesterol  FastingBloodSugar  \\\n",
       "0   52    1              0        125          212                  0   \n",
       "1   53    1              0        140          203                  1   \n",
       "2   70    1              0        145          174                  0   \n",
       "3   61    1              0        148          203                  0   \n",
       "4   62    0              0        138          294                  1   \n",
       "\n",
       "   RestingECG  MaxHeartRate  ExerciseAngina  STDepression  STSlope  \\\n",
       "0           1           168               0           1.0        2   \n",
       "1           0           155               1           3.1        0   \n",
       "2           1           125               1           2.6        0   \n",
       "3           1           161               0           0.0        2   \n",
       "4           1           106               0           1.9        1   \n",
       "\n",
       "   MajorVessels  Thalassemia  HeartDisease  \n",
       "0             2            3             0  \n",
       "1             0            3             0  \n",
       "2             0            3             0  \n",
       "3             1            3             0  \n",
       "4             3            2             0  "
      ]
     },
     "execution_count": 9,
     "metadata": {},
     "output_type": "execute_result"
    }
   ],
   "source": [
    "# Define the new column names\n",
    "new_column_names = {\n",
    "    'age': 'Age',\n",
    "    'sex': 'Sex',\n",
    "    'cp': 'ChestPainType',\n",
    "    'trestbps': 'RestingBP',\n",
    "    'chol': 'Cholesterol',\n",
    "    'fbs': 'FastingBloodSugar',\n",
    "    'restecg': 'RestingECG',\n",
    "    'thalach': 'MaxHeartRate',\n",
    "    'exang': 'ExerciseAngina',\n",
    "    'oldpeak': 'STDepression',\n",
    "    'slope': 'STSlope',\n",
    "    'ca': 'MajorVessels',\n",
    "    'thal': 'Thalassemia',\n",
    "    'target': 'HeartDisease'\n",
    "}\n",
    "\n",
    "# Rename the columns\n",
    "df = df.rename(columns=new_column_names)\n",
    "\n",
    "df.head()"
   ]
  },
  {
   "cell_type": "code",
   "execution_count": 10,
   "id": "e8d21e85-1400-4afe-8b1b-9d3455ff5dd5",
   "metadata": {},
   "outputs": [
    {
     "name": "stdout",
     "output_type": "stream",
     "text": [
      "Mean of standardized columns:\n",
      "Age            -2.676299e-16\n",
      "RestingBP      -6.676043e-16\n",
      "Cholesterol    -1.470494e-17\n",
      "Thalassemia     4.999680e-17\n",
      "STDepression   -1.294035e-16\n",
      "dtype: float64\n",
      "\n",
      "Standard deviation of standardized columns:\n",
      "Age             1.00166\n",
      "RestingBP       1.00166\n",
      "Cholesterol     1.00166\n",
      "Thalassemia     1.00166\n",
      "STDepression    1.00166\n",
      "dtype: float64\n"
     ]
    }
   ],
   "source": [
    "# Define numerical columns to standardize\n",
    "numerical_columns = ['Age', 'RestingBP', 'Cholesterol', 'Thalassemia', 'STDepression']\n",
    "\n",
    "# Initialize the StandardScaler\n",
    "scaler = StandardScaler()\n",
    "\n",
    "# Standardize only the numerical columns\n",
    "df[numerical_columns] = scaler.fit_transform(df[numerical_columns])\n",
    "\n",
    "# Verify the standardization (optional: print mean and std of standardized columns)\n",
    "print(\"Mean of standardized columns:\")\n",
    "print(df[numerical_columns].mean())\n",
    "print(\"\\nStandard deviation of standardized columns:\")\n",
    "print(df[numerical_columns].std())"
   ]
  },
  {
   "cell_type": "code",
   "execution_count": 11,
   "id": "e76cb85d-4206-4ee0-846e-29fb8f876adf",
   "metadata": {},
   "outputs": [],
   "source": [
    "# separate features and class\n",
    "X = df.iloc[:,:-1]\n",
    "y = df.iloc[:, -1]\n",
    "\n",
    "# Split the dataset into training and testing sets\n",
    "X_train, X_test, y_train, y_test = train_test_split(X, y, test_size=0.2, random_state=42)\n",
    "\n",
    "# Get the feature names from X for future use in Feature selection techniques\n",
    "feature_names = X.columns.tolist()\n",
    "\n",
    "# Define models\n",
    "models = {\n",
    "    'KNN': KNeighborsClassifier(),\n",
    "    'Logistic Regression': LogisticRegression(),\n",
    "    'Decision Tree': DecisionTreeClassifier(),\n",
    "    'SVM': SVC(),\n",
    "    'Naive Bayes': GaussianNB()\n",
    "}"
   ]
  },
  {
   "cell_type": "code",
   "execution_count": 12,
   "id": "ad8bc318-deee-4371-b8ae-6aab9a0fbe34",
   "metadata": {},
   "outputs": [
    {
     "name": "stdout",
     "output_type": "stream",
     "text": [
      "Evaluating models with all features: \n",
      "\n",
      "Baseline model accuracies (with all features):\n",
      "{'KNN': 73.77, 'Logistic Regression': 77.05, 'Decision Tree': 75.41, 'SVM': 60.66, 'Naive Bayes': 85.25}\n",
      "\n",
      "Baseline model F1 scores (with all features):\n",
      "{'KNN': 73.27, 'Logistic Regression': 76.94, 'Decision Tree': 75.29, 'SVM': 57.62, 'Naive Bayes': 85.25}\n"
     ]
    },
    {
     "name": "stderr",
     "output_type": "stream",
     "text": [
      "C:\\Users\\mohdm\\anaconda3\\Lib\\site-packages\\sklearn\\linear_model\\_logistic.py:469: ConvergenceWarning: lbfgs failed to converge (status=1):\n",
      "STOP: TOTAL NO. of ITERATIONS REACHED LIMIT.\n",
      "\n",
      "Increase the number of iterations (max_iter) or scale the data as shown in:\n",
      "    https://scikit-learn.org/stable/modules/preprocessing.html\n",
      "Please also refer to the documentation for alternative solver options:\n",
      "    https://scikit-learn.org/stable/modules/linear_model.html#logistic-regression\n",
      "  n_iter_i = _check_optimize_result(\n"
     ]
    }
   ],
   "source": [
    "print(\"Evaluating models with all features: \\n\")\n",
    "\n",
    "# Separate dictionaries for each metric\n",
    "all_features_model_accuracies = {}\n",
    "all_features_model_f1_scores = {}\n",
    "\n",
    "# Loop through each model\n",
    "for model_name, model_instance in models.items():\n",
    "    model_instance.fit(X_train, y_train)\n",
    "    y_pred = model_instance.predict(X_test)\n",
    "\n",
    "    # Save metrics\n",
    "    accuracy = round(accuracy_score(y_test, y_pred) * 100, 2)\n",
    "    f1 = round(f1_score(y_test, y_pred, average='weighted') * 100, 2)\n",
    "\n",
    "    # Add metrics to the respective dictionaries\n",
    "    all_features_model_accuracies[model_name] = accuracy\n",
    "    all_features_model_f1_scores[model_name] = f1\n",
    "\n",
    "# Print results\n",
    "print(\"Baseline model accuracies (with all features):\")\n",
    "print(all_features_model_accuracies)\n",
    "\n",
    "print(\"\\nBaseline model F1 scores (with all features):\")\n",
    "print(all_features_model_f1_scores)"
   ]
  },
  {
   "cell_type": "code",
   "execution_count": 13,
   "id": "46f7017b-5447-4835-81c5-330ec357c16e",
   "metadata": {},
   "outputs": [
    {
     "name": "stdout",
     "output_type": "stream",
     "text": [
      "✅ Naive Bayes model saved to './models/heart_disease_model.pkl'\n"
     ]
    }
   ],
   "source": [
    "# Create the directory if it doesn't exist\n",
    "os.makedirs('./models', exist_ok=True)\n",
    "\n",
    "# Assuming the 'models' dictionary already exists and the model is trained\n",
    "heart_disease_model = models['Naive Bayes']\n",
    "\n",
    "# Save the model to the specified path\n",
    "with open('./models/heart_disease_model.pkl', 'wb') as file:\n",
    "    pickle.dump(heart_disease_model, file)\n",
    "\n",
    "print(\"✅ Naive Bayes model saved to './models/heart_disease_model.pkl'\")"
   ]
  },
  {
   "cell_type": "code",
   "execution_count": 14,
   "id": "acea40c7-2f2a-4662-935d-82042a741991",
   "metadata": {},
   "outputs": [
    {
     "data": {
      "image/png": "[encoded data removed]",
      "text/plain": [
       "<Figure size 800x500 with 1 Axes>"
      ]
     },
     "metadata": {},
     "output_type": "display_data"
    },
    {
     "data": {
      "image/png": "[encoded data removed]",
      "text/plain": [
       "<Figure size 800x500 with 1 Axes>"
      ]
     },
     "metadata": {},
     "output_type": "display_data"
    }
   ],
   "source": [
    "# Dynamically extract models and values\n",
    "model = list(all_features_model_accuracies.keys())\n",
    "accuracies = list(all_features_model_accuracies.values())\n",
    "f1_scores = list(all_features_model_f1_scores.values())\n",
    "\n",
    "# Validate that the dictionaries have the same keys\n",
    "if set(all_features_model_accuracies.keys()) != set(all_features_model_f1_scores.keys()):\n",
    "    raise ValueError(\"Dictionaries must have the same models as keys\")\n",
    "\n",
    "# --- Plot 1: Bar Chart for Accuracies ---\n",
    "plt.figure(figsize=(8, 5))\n",
    "x = np.arange(len(models))\n",
    "plt.bar(x, accuracies, color='skyblue')\n",
    "plt.xlabel('Models')\n",
    "plt.ylabel('Accuracy (%)')\n",
    "plt.title('Model Performance: Accuracy')\n",
    "plt.xticks(x, models, rotation=45)\n",
    "plt.grid(axis='y', linestyle='--', alpha=0.7)\n",
    "plt.tight_layout()\n",
    "plt.show()\n",
    "\n",
    "# --- Plot 2: Bar Chart for F1 Scores ---\n",
    "plt.figure(figsize=(8, 5))\n",
    "x = np.arange(len(models))\n",
    "plt.bar(x, f1_scores, color='lightcoral')\n",
    "plt.xlabel('Models')\n",
    "plt.ylabel('F1 Score (%)')\n",
    "plt.title('Model Performance: F1 Scores')\n",
    "plt.xticks(x, models, rotation=45)\n",
    "plt.grid(axis='y', linestyle='--', alpha=0.7)\n",
    "plt.tight_layout()\n",
    "plt.show()"
   ]
  },
  {
   "cell_type": "code",
   "execution_count": null,
   "id": "518a97ab-86f6-44a6-a8d9-d3e013c587a1",
   "metadata": {},
   "outputs": [],
   "source": []
  },
  {
   "cell_type": "code",
   "execution_count": null,
   "id": "e0b6d507-bce4-496b-b13d-47f31c947b1b",
   "metadata": {},
   "outputs": [],
   "source": []
  },
  {
   "cell_type": "code",
   "execution_count": null,
   "id": "dfa63434-ddb3-4a51-addf-58ca17c24d86",
   "metadata": {},
   "outputs": [],
   "source": []
  },
  {
   "cell_type": "code",
   "execution_count": null,
   "id": "7d2db601-da13-4e91-84e5-f4a8beed9ee2",
   "metadata": {},
   "outputs": [],
   "source": []
  },
  {
   "cell_type": "code",
   "execution_count": null,
   "id": "83b0f939-4518-42f2-9ab0-666677a49b20",
   "metadata": {},
   "outputs": [],
   "source": []
  }
 ],
 "metadata": {
  "kernelspec": {
   "display_name": "Python 3 (ipykernel)",
   "language": "python",
   "name": "python3"
  },
  "language_info": {
   "codemirror_mode": {
    "name": "ipython",
    "version": 3
   },
   "file_extension": ".py",
   "mimetype": "text/x-python",
   "name": "python",
   "nbconvert_exporter": "python",
   "pygments_lexer": "ipython3",
   "version": "3.12.7"
  }
 },
 "nbformat": 4,
 "nbformat_minor": 5
}
